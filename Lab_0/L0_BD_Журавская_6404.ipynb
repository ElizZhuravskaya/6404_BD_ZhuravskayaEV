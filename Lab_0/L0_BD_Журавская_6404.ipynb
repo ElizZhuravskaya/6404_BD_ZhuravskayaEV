{
  "nbformat": 4,
  "nbformat_minor": 0,
  "metadata": {
    "colab": {
      "provenance": []
    },
    "kernelspec": {
      "name": "python3",
      "display_name": "Python 3"
    }
  },
  "cells": [
    {
      "cell_type": "markdown",
      "metadata": {
        "id": "82OvPKEiEqjc"
      },
      "source": [
        "# Введение в MapReduce модель на Python\n"
      ]
    },
    {
      "cell_type": "code",
      "metadata": {
        "id": "JQ2cvXLjICmI"
      },
      "source": [
        "from typing import NamedTuple # requires python 3.6+\n",
        "from typing import Iterator"
      ],
      "execution_count": null,
      "outputs": []
    },
    {
      "cell_type": "code",
      "metadata": {
        "id": "yjPHumVwEyEg"
      },
      "source": [
        "def MAP(_, row:NamedTuple):\n",
        "  if (row.gender == 'female'):\n",
        "    yield (row.age, row)\n",
        "\n",
        "def REDUCE(age:str, rows:Iterator[NamedTuple]):\n",
        "  sum = 0\n",
        "  count = 0\n",
        "  for row in rows:\n",
        "    sum += row.social_contacts\n",
        "    count += 1\n",
        "  if (count > 0):\n",
        "    yield (age, sum/count)\n",
        "  else:\n",
        "    yield (age, 0)"
      ],
      "execution_count": null,
      "outputs": []
    },
    {
      "cell_type": "markdown",
      "metadata": {
        "id": "vBKMgpG_ilaZ"
      },
      "source": [
        "Модель элемента данных"
      ]
    },
    {
      "cell_type": "code",
      "metadata": {
        "id": "Rv-XIjhTJPx3"
      },
      "source": [
        "class User(NamedTuple):\n",
        "  id: int\n",
        "  age: str\n",
        "  social_contacts: int\n",
        "  gender: str"
      ],
      "execution_count": null,
      "outputs": []
    },
    {
      "cell_type": "code",
      "metadata": {
        "id": "5KV0Ze2vQgu5"
      },
      "source": [
        "input_collection = [\n",
        "    User(id=0, age=55, gender='male', social_contacts=20),\n",
        "    User(id=1, age=25, gender='female', social_contacts=240),\n",
        "    User(id=2, age=25, gender='female', social_contacts=500),\n",
        "    User(id=3, age=33, gender='female', social_contacts=800)\n",
        "]"
      ],
      "execution_count": null,
      "outputs": []
    },
    {
      "cell_type": "markdown",
      "metadata": {
        "id": "YFeqzyZxZIFZ"
      },
      "source": [
        "Функция RECORDREADER моделирует чтение элементов с диска или по сети."
      ]
    },
    {
      "cell_type": "code",
      "metadata": {
        "id": "S5HR4E_GQoMJ"
      },
      "source": [
        "def RECORDREADER():\n",
        "  return [(u.id, u) for u in input_collection]"
      ],
      "execution_count": null,
      "outputs": []
    },
    {
      "cell_type": "code",
      "metadata": {
        "id": "NeEoWla-ROUy",
        "colab": {
          "base_uri": "https://localhost:8080/",
          "height": 85
        },
        "outputId": "94ca6e0e-4644-4282-acbf-1759d7ba2918"
      },
      "source": [
        "list(RECORDREADER())"
      ],
      "execution_count": null,
      "outputs": [
        {
          "output_type": "execute_result",
          "data": {
            "text/plain": [
              "[(0, User(id=0, age=55, social_contacts=20, gender='male')),\n",
              " (1, User(id=1, age=25, social_contacts=240, gender='female')),\n",
              " (2, User(id=2, age=25, social_contacts=500, gender='female')),\n",
              " (3, User(id=3, age=33, social_contacts=800, gender='female'))]"
            ]
          },
          "metadata": {
            "tags": []
          },
          "execution_count": 20
        }
      ]
    },
    {
      "cell_type": "code",
      "metadata": {
        "id": "YB8orgPSZs8M"
      },
      "source": [
        "def flatten(nested_iterable):\n",
        "  for iterable in nested_iterable:\n",
        "    for element in iterable:\n",
        "      yield element"
      ],
      "execution_count": null,
      "outputs": []
    },
    {
      "cell_type": "code",
      "metadata": {
        "id": "74oyvDLaRmd5",
        "colab": {
          "base_uri": "https://localhost:8080/",
          "height": 68
        },
        "outputId": "c6147702-7153-47c7-a574-d5fe6abe29a8"
      },
      "source": [
        "map_output = flatten(map(lambda x: MAP(*x), RECORDREADER()))\n",
        "map_output = list(map_output) # materialize\n",
        "map_output"
      ],
      "execution_count": null,
      "outputs": [
        {
          "output_type": "execute_result",
          "data": {
            "text/plain": [
              "[(25, User(id=1, age=25, social_contacts=240, gender='female')),\n",
              " (25, User(id=2, age=25, social_contacts=500, gender='female')),\n",
              " (33, User(id=3, age=33, social_contacts=800, gender='female'))]"
            ]
          },
          "metadata": {
            "tags": []
          },
          "execution_count": 22
        }
      ]
    },
    {
      "cell_type": "code",
      "metadata": {
        "id": "8ncYDJ3-VzDn"
      },
      "source": [
        "def groupbykey(iterable):\n",
        "  t = {}\n",
        "  for (k2, v2) in iterable:\n",
        "    t[k2] = t.get(k2, []) + [v2]\n",
        "  return t.items()"
      ],
      "execution_count": null,
      "outputs": []
    },
    {
      "cell_type": "code",
      "metadata": {
        "id": "cKzY_6COWOA2",
        "colab": {
          "base_uri": "https://localhost:8080/",
          "height": 85
        },
        "outputId": "e6791b12-e409-47e9-bcd4-e9f8ca8611bd"
      },
      "source": [
        "shuffle_output = groupbykey(map_output)\n",
        "shuffle_output = list(shuffle_output)\n",
        "shuffle_output"
      ],
      "execution_count": null,
      "outputs": [
        {
          "output_type": "execute_result",
          "data": {
            "text/plain": [
              "[(25,\n",
              "  [User(id=1, age=25, social_contacts=240, gender='female'),\n",
              "   User(id=2, age=25, social_contacts=500, gender='female')]),\n",
              " (33, [User(id=3, age=33, social_contacts=800, gender='female')])]"
            ]
          },
          "metadata": {
            "tags": []
          },
          "execution_count": 24
        }
      ]
    },
    {
      "cell_type": "code",
      "metadata": {
        "id": "NlA7lkDDYL0t",
        "colab": {
          "base_uri": "https://localhost:8080/",
          "height": 34
        },
        "outputId": "6b25d03f-5c92-4f3b-f500-6d70acd598b7"
      },
      "source": [
        "reduce_output = flatten(map(lambda x: REDUCE(*x), shuffle_output))\n",
        "reduce_output = list(reduce_output)\n",
        "reduce_output"
      ],
      "execution_count": null,
      "outputs": [
        {
          "output_type": "execute_result",
          "data": {
            "text/plain": [
              "[(25, 370.0), (33, 800.0)]"
            ]
          },
          "metadata": {
            "tags": []
          },
          "execution_count": 25
        }
      ]
    },
    {
      "cell_type": "markdown",
      "metadata": {
        "id": "xf6qhHEtd6bI"
      },
      "source": [
        "Все действия одним конвейером!"
      ]
    },
    {
      "cell_type": "code",
      "metadata": {
        "id": "dZaQGYxCdpw5",
        "colab": {
          "base_uri": "https://localhost:8080/",
          "height": 34
        },
        "outputId": "3f5c6425-e5c5-49d2-b2cd-ce58a9acc33c"
      },
      "source": [
        "list(flatten(map(lambda x: REDUCE(*x), groupbykey(flatten(map(lambda x: MAP(*x), RECORDREADER()))))))"
      ],
      "execution_count": null,
      "outputs": [
        {
          "output_type": "execute_result",
          "data": {
            "text/plain": [
              "[(25, 370.0), (33, 800.0)]"
            ]
          },
          "metadata": {
            "tags": []
          },
          "execution_count": 26
        }
      ]
    },
    {
      "cell_type": "markdown",
      "metadata": {
        "id": "Vq3EWRIpwSiJ"
      },
      "source": [
        "# **MapReduce**\n",
        "Выделим общую для всех пользователей часть системы в отдельную функцию высшего порядка. Это наиболее простая модель MapReduce, без учёта распределённого хранения данных.\n",
        "\n",
        "Пользователь для решения своей задачи реализует RECORDREADER, MAP, REDUCE."
      ]
    },
    {
      "cell_type": "code",
      "metadata": {
        "id": "V1PZeQMwwVjc"
      },
      "source": [
        "def flatten(nested_iterable):\n",
        "  for iterable in nested_iterable:\n",
        "    for element in iterable:\n",
        "      yield element\n",
        "\n",
        "def groupbykey(iterable):\n",
        "  t = {}\n",
        "  for (k2, v2) in iterable:\n",
        "    t[k2] = t.get(k2, []) + [v2]\n",
        "  return t.items()\n",
        "\n",
        "def MapReduce(RECORDREADER, MAP, REDUCE):\n",
        "  return flatten(map(lambda x: REDUCE(*x), groupbykey(flatten(map(lambda x: MAP(*x), RECORDREADER())))))"
      ],
      "execution_count": null,
      "outputs": []
    },
    {
      "cell_type": "markdown",
      "metadata": {
        "id": "iFIVrimep678"
      },
      "source": [
        "## Спецификация MapReduce\n",
        "\n",
        "\n",
        "\n",
        "```\n",
        "f (k1, v1) -> (k2,v2)*\n",
        "g (k2, v2*) -> (k3,v3)*\n",
        "\n",
        "mapreduce ((k1,v1)*) -> (k3,v3)*\n",
        "groupby ((k2,v2)*) -> (k2,v2*)*\n",
        "flatten (e2**) -> e2*\n",
        "\n",
        "mapreduce .map(f).flatten.groupby(k2).map(g).flatten\n",
        "```\n",
        "\n",
        "\n"
      ]
    },
    {
      "cell_type": "markdown",
      "metadata": {
        "id": "QtTFyqke3KGe"
      },
      "source": [
        "# Примеры"
      ]
    },
    {
      "cell_type": "markdown",
      "metadata": {
        "id": "BNhh5763w5Vn"
      },
      "source": [
        "## SQL"
      ]
    },
    {
      "cell_type": "code",
      "metadata": {
        "id": "QkyurnvGxBGk",
        "colab": {
          "base_uri": "https://localhost:8080/",
          "height": 34
        },
        "outputId": "84761282-d2ba-435a-e8d7-a85150730e10"
      },
      "source": [
        "from typing import NamedTuple # requires python 3.6+\n",
        "from typing import Iterator\n",
        "\n",
        "class User(NamedTuple):\n",
        "  id: int\n",
        "  age: str\n",
        "  social_contacts: int\n",
        "  gender: str\n",
        "\n",
        "input_collection = [\n",
        "    User(id=0, age=55, gender='male', social_contacts=20),\n",
        "    User(id=1, age=25, gender='female', social_contacts=240),\n",
        "    User(id=2, age=25, gender='female', social_contacts=500),\n",
        "    User(id=3, age=33, gender='female', social_contacts=800)\n",
        "]\n",
        "\n",
        "def MAP(_, row:NamedTuple):\n",
        "  if (row.gender == 'female'):\n",
        "    yield (row.age, row)\n",
        "\n",
        "def REDUCE(age:str, rows:Iterator[NamedTuple]):\n",
        "  sum = 0\n",
        "  count = 0\n",
        "  for row in rows:\n",
        "    sum += row.social_contacts\n",
        "    count += 1\n",
        "  if (count > 0):\n",
        "    yield (age, sum/count)\n",
        "  else:\n",
        "    yield (age, 0)\n",
        "\n",
        "def RECORDREADER():\n",
        "  return [(u.id, u) for u in input_collection]\n",
        "\n",
        "output = MapReduce(RECORDREADER, MAP, REDUCE)\n",
        "output = list(output)\n",
        "output"
      ],
      "execution_count": null,
      "outputs": [
        {
          "output_type": "execute_result",
          "data": {
            "text/plain": [
              "[(25, 370.0), (33, 800.0)]"
            ]
          },
          "metadata": {
            "tags": []
          },
          "execution_count": 28
        }
      ]
    },
    {
      "cell_type": "markdown",
      "metadata": {
        "id": "kNKYIeerx0nY"
      },
      "source": [
        "## Matrix-Vector multiplication"
      ]
    },
    {
      "cell_type": "code",
      "metadata": {
        "id": "rwcntRcCyi1V",
        "colab": {
          "base_uri": "https://localhost:8080/",
          "height": 102
        },
        "outputId": "606737ab-6b55-455c-931f-4fc45155f8a9"
      },
      "source": [
        "from typing import Iterator\n",
        "import numpy as np\n",
        "\n",
        "mat = np.ones((5,4))\n",
        "vec = np.random.rand(4) # in-memory vector in all map tasks\n",
        "\n",
        "def MAP(coordinates:(int, int), value:int):\n",
        "  i, j = coordinates\n",
        "  yield (i, value*vec[j])\n",
        "\n",
        "def REDUCE(i:int, products:Iterator[NamedTuple]):\n",
        "  sum = 0\n",
        "  for p in products:\n",
        "    sum += p\n",
        "  yield (i, sum)\n",
        "\n",
        "def RECORDREADER():\n",
        "  for i in range(mat.shape[0]):\n",
        "    for j in range(mat.shape[1]):\n",
        "      yield ((i, j), mat[i,j])\n",
        "\n",
        "output = MapReduce(RECORDREADER, MAP, REDUCE)\n",
        "output = list(output)\n",
        "output"
      ],
      "execution_count": null,
      "outputs": [
        {
          "output_type": "execute_result",
          "data": {
            "text/plain": [
              "[(0, 2.905589809636405),\n",
              " (1, 2.905589809636405),\n",
              " (2, 2.905589809636405),\n",
              " (3, 2.905589809636405),\n",
              " (4, 2.905589809636405)]"
            ]
          },
          "metadata": {
            "tags": []
          },
          "execution_count": 29
        }
      ]
    },
    {
      "cell_type": "markdown",
      "metadata": {
        "id": "ruZREYdi2o4O"
      },
      "source": [
        "## Inverted index"
      ]
    },
    {
      "cell_type": "code",
      "metadata": {
        "id": "vt9H9Alf3TYv",
        "colab": {
          "base_uri": "https://localhost:8080/",
          "height": 102
        },
        "outputId": "51aeffc9-e111-4607-bd84-cfcc7b56f238"
      },
      "source": [
        "from typing import Iterator\n",
        "\n",
        "d1 = \"it is what it is\"\n",
        "d2 = \"what is it\"\n",
        "d3 = \"it is a banana\"\n",
        "documents = [d1, d2, d3]\n",
        "\n",
        "def RECORDREADER():\n",
        "  for (docid, document) in enumerate(documents):\n",
        "    yield (\"{}\".format(docid), document)\n",
        "\n",
        "def MAP(docId:str, body:str):\n",
        "  for word in set(body.split(' ')):\n",
        "    yield (word, docId)\n",
        "\n",
        "def REDUCE(word:str, docIds:Iterator[str]):\n",
        "  yield (word, sorted(docIds))\n",
        "\n",
        "output = MapReduce(RECORDREADER, MAP, REDUCE)\n",
        "output = list(output)\n",
        "output"
      ],
      "execution_count": null,
      "outputs": [
        {
          "output_type": "execute_result",
          "data": {
            "text/plain": [
              "[('what', ['0', '1']),\n",
              " ('is', ['0', '1', '2']),\n",
              " ('it', ['0', '1', '2']),\n",
              " ('a', ['2']),\n",
              " ('banana', ['2'])]"
            ]
          },
          "metadata": {
            "tags": []
          },
          "execution_count": 30
        }
      ]
    },
    {
      "cell_type": "markdown",
      "metadata": {
        "id": "R7az-6DA6qr2"
      },
      "source": [
        "## WordCount"
      ]
    },
    {
      "cell_type": "code",
      "metadata": {
        "id": "dN-nbtgG6uYG",
        "colab": {
          "base_uri": "https://localhost:8080/",
          "height": 34
        },
        "outputId": "24117576-7931-401d-a581-28e246b23453"
      },
      "source": [
        "from typing import Iterator\n",
        "\n",
        "d1 = \"\"\"\n",
        "it is what it is\n",
        "it is what it is\n",
        "it is what it is\"\"\"\n",
        "d2 = \"\"\"\n",
        "what is it\n",
        "what is it\"\"\"\n",
        "d3 = \"\"\"\n",
        "it is a banana\"\"\"\n",
        "documents = [d1, d2, d3]\n",
        "\n",
        "def RECORDREADER():\n",
        "  for (docid, document) in enumerate(documents):\n",
        "    for (lineid, line) in enumerate(document.split('\\n')):\n",
        "      yield (\"{}:{}\".format(docid,lineid), line)\n",
        "\n",
        "def MAP(docId:str, line:str):\n",
        "  for word in line.split(\" \"):\n",
        "    yield (word, 1)\n",
        "\n",
        "def REDUCE(word:str, counts:Iterator[int]):\n",
        "  sum = 0\n",
        "  for c in counts:\n",
        "    sum += c\n",
        "  yield (word, sum)\n",
        "\n",
        "output = MapReduce(RECORDREADER, MAP, REDUCE)\n",
        "output = list(output)\n",
        "output"
      ],
      "execution_count": null,
      "outputs": [
        {
          "output_type": "execute_result",
          "data": {
            "text/plain": [
              "[('', 3), ('it', 9), ('is', 9), ('what', 5), ('a', 1), ('banana', 1)]"
            ]
          },
          "metadata": {
            "tags": []
          },
          "execution_count": 31
        }
      ]
    },
    {
      "cell_type": "markdown",
      "metadata": {
        "id": "h-jRAcYCAkkk"
      },
      "source": [
        "# MapReduce Distributed\n",
        "\n",
        "Добавляется в модель фабрика RECORDREARER-ов --- INPUTFORMAT, функция распределения промежуточных результатов по партициям PARTITIONER, и функция COMBINER для частичной аггрегации промежуточных результатов до распределения по новым партициям."
      ]
    },
    {
      "cell_type": "code",
      "metadata": {
        "id": "nw-b-xJsApgW"
      },
      "source": [
        "def flatten(nested_iterable):\n",
        "  for iterable in nested_iterable:\n",
        "    for element in iterable:\n",
        "      yield element\n",
        "\n",
        "def groupbykey(iterable):\n",
        "  t = {}\n",
        "  for (k2, v2) in iterable:\n",
        "    t[k2] = t.get(k2, []) + [v2]\n",
        "  return t.items()\n",
        "\n",
        "def groupbykey_distributed(map_partitions, PARTITIONER):\n",
        "  global reducers\n",
        "  partitions = [dict() for _ in range(reducers)]\n",
        "  for map_partition in map_partitions:\n",
        "    for (k2, v2) in map_partition:\n",
        "      p = partitions[PARTITIONER(k2)]\n",
        "      p[k2] = p.get(k2, []) + [v2]\n",
        "  return [(partition_id, sorted(partition.items(), key=lambda x: x[0])) for (partition_id, partition) in enumerate(partitions)]\n",
        "\n",
        "def PARTITIONER(obj):\n",
        "  global reducers\n",
        "  return hash(obj) % reducers\n",
        "\n",
        "def MapReduceDistributed(INPUTFORMAT, MAP, REDUCE, PARTITIONER=PARTITIONER, COMBINER=None):\n",
        "  map_partitions = map(lambda record_reader: flatten(map(lambda k1v1: MAP(*k1v1), record_reader)), INPUTFORMAT())\n",
        "  if COMBINER != None:\n",
        "    map_partitions = map(lambda map_partition: flatten(map(lambda k2v2: COMBINER(*k2v2), groupbykey(map_partition))), map_partitions)\n",
        "  reduce_partitions = groupbykey_distributed(map_partitions, PARTITIONER) # shuffle\n",
        "  reduce_outputs = map(lambda reduce_partition: (reduce_partition[0], flatten(map(lambda reduce_input_group: REDUCE(*reduce_input_group), reduce_partition[1]))), reduce_partitions)\n",
        "\n",
        "  print(\"{} key-value pairs were sent over a network.\".format(sum([len(vs) for (k,vs) in flatten([partition for (partition_id, partition) in reduce_partitions])])))\n",
        "  return reduce_outputs"
      ],
      "execution_count": null,
      "outputs": []
    },
    {
      "cell_type": "markdown",
      "metadata": {
        "id": "kxirlf3XqZxY"
      },
      "source": [
        "## Спецификация MapReduce Distributed\n",
        "\n",
        "\n",
        "```\n",
        "f (k1, v1) -> (k2,v2)*\n",
        "g (k2, v2*) -> (k3,v3)*\n",
        "\n",
        "e1 (k1, v1)\n",
        "e2 (k2, v2)\n",
        "partition1 (k2, v2)*\n",
        "partition2 (k2, v2*)*\n",
        "\n",
        "flatmap (e1->e2*, e1*) -> partition1*\n",
        "groupby (partition1*) -> partition2*\n",
        "\n",
        "mapreduce ((k1,v1)*) -> (k3,v3)*\n",
        "mapreduce .flatmap(f).groupby(k2).flatmap(g)\n",
        "```\n",
        "\n"
      ]
    },
    {
      "cell_type": "markdown",
      "metadata": {
        "id": "CWYw_CpbbY3C"
      },
      "source": [
        "## WordCount"
      ]
    },
    {
      "cell_type": "code",
      "metadata": {
        "id": "uR_zfGFkMZlp",
        "colab": {
          "base_uri": "https://localhost:8080/",
          "height": 68
        },
        "outputId": "c8d46167-473d-43b9-881a-2396991b3731"
      },
      "source": [
        "from typing import Iterator\n",
        "import numpy as np\n",
        "\n",
        "d1 = \"\"\"\n",
        "it is what it is\n",
        "it is what it is\n",
        "it is what it is\"\"\"\n",
        "d2 = \"\"\"\n",
        "what is it\n",
        "what is it\"\"\"\n",
        "d3 = \"\"\"\n",
        "it is a banana\"\"\"\n",
        "documents = [d1, d2, d3, d1, d2, d3]\n",
        "\n",
        "maps = 3\n",
        "reducers = 2\n",
        "\n",
        "def INPUTFORMAT():\n",
        "  global maps\n",
        "\n",
        "  def RECORDREADER(split):\n",
        "    for (docid, document) in enumerate(split):\n",
        "      for (lineid, line) in enumerate(document.split('\\n')):\n",
        "        yield (\"{}:{}\".format(docid,lineid), line)\n",
        "\n",
        "  split_size =  int(np.ceil(len(documents)/maps))\n",
        "  for i in range(0, len(documents), split_size):\n",
        "    yield RECORDREADER(documents[i:i+split_size])\n",
        "\n",
        "def MAP(docId:str, line:str):\n",
        "  for word in line.split(\" \"):\n",
        "    yield (word, 1)\n",
        "\n",
        "def REDUCE(word:str, counts:Iterator[int]):\n",
        "  sum = 0\n",
        "  for c in counts:\n",
        "    sum += c\n",
        "  yield (word, sum)\n",
        "\n",
        "# try to set COMBINER=REDUCER and look at the number of values sent over the network\n",
        "partitioned_output = MapReduceDistributed(INPUTFORMAT, MAP, REDUCE, COMBINER=None)\n",
        "partitioned_output = [(partition_id, list(partition)) for (partition_id, partition) in partitioned_output]\n",
        "partitioned_output"
      ],
      "execution_count": null,
      "outputs": [
        {
          "output_type": "stream",
          "text": [
            "56 key-value pairs were sent over a network.\n"
          ],
          "name": "stdout"
        },
        {
          "output_type": "execute_result",
          "data": {
            "text/plain": [
              "[(0, [('', 6), ('a', 2), ('banana', 2), ('is', 18), ('it', 18), ('what', 10)]),\n",
              " (1, [])]"
            ]
          },
          "metadata": {
            "tags": []
          },
          "execution_count": 33
        }
      ]
    },
    {
      "cell_type": "markdown",
      "metadata": {
        "id": "gCJGx8IQ87xS"
      },
      "source": [
        "## TeraSort"
      ]
    },
    {
      "cell_type": "code",
      "metadata": {
        "id": "P2v8v1v_8_YR",
        "colab": {
          "base_uri": "https://localhost:8080/",
          "height": 578
        },
        "outputId": "e0987c25-9757-46cb-8e55-d5d2adfbee2b"
      },
      "source": [
        "import numpy as np\n",
        "\n",
        "input_values = np.random.rand(30)\n",
        "maps = 3\n",
        "reducers = 2\n",
        "min_value = 0.0\n",
        "max_value = 1.0\n",
        "\n",
        "def INPUTFORMAT():\n",
        "  global maps\n",
        "\n",
        "  def RECORDREADER(split):\n",
        "    for value in split:\n",
        "        yield (value, None)\n",
        "\n",
        "  split_size =  int(np.ceil(len(input_values)/maps))\n",
        "  for i in range(0, len(input_values), split_size):\n",
        "    yield RECORDREADER(input_values[i:i+split_size])\n",
        "\n",
        "def MAP(value:int, _):\n",
        "  yield (value, None)\n",
        "\n",
        "def PARTITIONER(key):\n",
        "  global reducers\n",
        "  global max_value\n",
        "  global min_value\n",
        "  bucket_size = (max_value-min_value)/reducers\n",
        "  bucket_id = 0\n",
        "  while((key>(bucket_id+1)*bucket_size) and ((bucket_id+1)*bucket_size<max_value)):\n",
        "    bucket_id += 1\n",
        "  return bucket_id\n",
        "\n",
        "def REDUCE(value:int, _):\n",
        "  yield (None,value)\n",
        "\n",
        "partitioned_output = MapReduceDistributed(INPUTFORMAT, MAP, REDUCE, COMBINER=None, PARTITIONER=PARTITIONER)\n",
        "partitioned_output = [(partition_id, list(partition)) for (partition_id, partition) in partitioned_output]\n",
        "partitioned_output"
      ],
      "execution_count": null,
      "outputs": [
        {
          "output_type": "stream",
          "text": [
            "30 key-value pairs were sent over a network.\n"
          ],
          "name": "stdout"
        },
        {
          "output_type": "execute_result",
          "data": {
            "text/plain": [
              "[(0,\n",
              "  [(None, 0.0059671639991895065),\n",
              "   (None, 0.07724245496172),\n",
              "   (None, 0.08440804135613444),\n",
              "   (None, 0.13575647907181598),\n",
              "   (None, 0.14404826813474803),\n",
              "   (None, 0.21204275967955666),\n",
              "   (None, 0.21869633101751806),\n",
              "   (None, 0.25055756276216923),\n",
              "   (None, 0.28642389538931257),\n",
              "   (None, 0.3834487515438496),\n",
              "   (None, 0.3913614390023946),\n",
              "   (None, 0.4041378102237341),\n",
              "   (None, 0.41854626274930695),\n",
              "   (None, 0.4704310153549396),\n",
              "   (None, 0.4776995227348928),\n",
              "   (None, 0.48992216726013693)]),\n",
              " (1,\n",
              "  [(None, 0.5005353544023048),\n",
              "   (None, 0.5135664686748047),\n",
              "   (None, 0.53391984417089),\n",
              "   (None, 0.5587932025401512),\n",
              "   (None, 0.5673804905854288),\n",
              "   (None, 0.6926646597910275),\n",
              "   (None, 0.7237444251339501),\n",
              "   (None, 0.7557883138083207),\n",
              "   (None, 0.785709769245918),\n",
              "   (None, 0.7937098630029404),\n",
              "   (None, 0.7942646850708935),\n",
              "   (None, 0.9160468126494941),\n",
              "   (None, 0.9618068292060864),\n",
              "   (None, 0.9820764489731459)])]"
            ]
          },
          "metadata": {
            "tags": []
          },
          "execution_count": 34
        }
      ]
    },
    {
      "cell_type": "markdown",
      "metadata": {
        "id": "Iy65YJTH99iT"
      },
      "source": [
        "# Упражнения\n",
        "Упражнения взяты из Rajaraman A., Ullman J. D. Mining of massive datasets. – Cambridge University Press, 2011.\n",
        "\n",
        "\n",
        "Для выполнения заданий переопределите функции RECORDREADER, MAP, REDUCE. Для модели распределённой системы может потребоваться переопределение функций PARTITION и COMBINER."
      ]
    },
    {
      "cell_type": "markdown",
      "metadata": {
        "id": "cfvAeZm3S8S8"
      },
      "source": [
        "### Максимальное значение ряда\n",
        "\n",
        "Разработайте MapReduce алгоритм, который находит максимальное число входного списка чисел."
      ]
    },
    {
      "cell_type": "code",
      "metadata": {
        "id": "3GRA1JR-Tkbg",
        "colab": {
          "base_uri": "https://localhost:8080/"
        },
        "outputId": "2078607a-ec32-482f-e628-bbd8944cfcbb"
      },
      "source": [
        "from functools import reduce\n",
        "\n",
        "# Функция MAP для нахождения максимального значения в списке чисел\n",
        "def MAP(numList):\n",
        "    # Функция MAP принимает список чисел (numList) и возвращает максимальное значение в нем\n",
        "    return max(numList)\n",
        "\n",
        "# Функция REDUCE для нахождения максимального значения среди всех списков чисел\n",
        "def REDUCE(max1, max2):\n",
        "    return max(max1, max2)\n",
        "\n",
        "# Данные для тестирования\n",
        "sample_data = [10, 20, 30, 40, 50, 60, 20, 30, 10, 100]\n",
        "print(\"Sample data:\", sample_data)\n",
        "\n",
        "# Выполнение Map\n",
        "mapped_values = map(MAP, [sample_data])\n",
        "\n",
        "# Выполнение Reduce\n",
        "result = reduce(REDUCE, mapped_values)\n",
        "print(\"Max value:\", result)"
      ],
      "execution_count": 11,
      "outputs": [
        {
          "output_type": "stream",
          "name": "stdout",
          "text": [
            "Sample data: [10, 20, 30, 40, 50, 60, 20, 30, 10, 100]\n",
            "Max value: 100\n"
          ]
        }
      ]
    },
    {
      "cell_type": "markdown",
      "metadata": {
        "id": "k86bXnqZTk-U"
      },
      "source": [
        "### Арифметическое среднее\n",
        "\n",
        "Разработайте MapReduce алгоритм, который находит арифметическое среднее.\n",
        "\n",
        "$$\\overline{X} = \\frac{1}{n}\\sum_{i=0}^{n} x_i$$\n"
      ]
    },
    {
      "cell_type": "code",
      "metadata": {
        "id": "MPoY5pkfUNZf",
        "colab": {
          "base_uri": "https://localhost:8080/"
        },
        "outputId": "62b77589-29e9-4ce2-fd2e-d04e9506fd9a"
      },
      "source": [
        "from typing import Iterator, Tuple\n",
        "\n",
        "# Функция MAP: создает пару (ключ, значение), где ключ всегда равен 1, а значение - элемент из входного списка\n",
        "def MAP(num):\n",
        "    return (1, num)\n",
        "\n",
        "# Функция REDUCE: для каждого ключа вычисляем среднее значение по всем числам\n",
        "def REDUCE(key, nums: Iterator[Tuple[int, int]]):\n",
        "    sum = 0\n",
        "    count = 0\n",
        "    for _, n in nums:  # Перебираем только числа, пропуская ключи\n",
        "        sum += n\n",
        "        count += 1\n",
        "    yield sum / count  # Вычисляем и возвращаем среднее значение\n",
        "\n",
        "# Данные для тестирования\n",
        "sample_data = [10, 20, 30, 40, 50, 60, 20, 30, 10]\n",
        "\n",
        "# Выполнение MAP\n",
        "map_output = list(map(MAP, sample_data))\n",
        "print(\"MAP:\", map_output)\n",
        "\n",
        "# Группируем данные по ключу\n",
        "grouped_avg = {}\n",
        "for k, v in map_output:\n",
        "    if k not in grouped_avg:\n",
        "        grouped_avg[k] = []\n",
        "    grouped_avg[k].append(v)  # Добавляем значение в список для этого ключа\n",
        "\n",
        "# Выполнение REDUCE\n",
        "reduce_output = list(REDUCE(1, map_output))\n",
        "print(\"Reduce output:\", reduce_output)"
      ],
      "execution_count": 12,
      "outputs": [
        {
          "output_type": "stream",
          "name": "stdout",
          "text": [
            "MAP: [(1, 10), (1, 20), (1, 30), (1, 40), (1, 50), (1, 60), (1, 20), (1, 30), (1, 10)]\n",
            "Reduce output: [30.0]\n"
          ]
        }
      ]
    },
    {
      "cell_type": "markdown",
      "metadata": {
        "id": "xanzszhsIlLe"
      },
      "source": [
        "### GroupByKey на основе сортировки\n",
        "\n",
        "Реализуйте groupByKey на основе сортировки, проверьте его работу на примерах"
      ]
    },
    {
      "cell_type": "code",
      "metadata": {
        "id": "hQPn3USsIkEC",
        "colab": {
          "base_uri": "https://localhost:8080/"
        },
        "outputId": "377f653a-d61a-48ec-a744-28de89e7316b"
      },
      "source": [
        "from typing import Iterator, NamedTuple, List, Tuple\n",
        "\n",
        "# Функция MAP\n",
        "def MAP(num):\n",
        "    return (num[0], num[1])  # Возвращаем ключ и значение как пару\n",
        "\n",
        "# Функция REDUCE\n",
        "def REDUCE(key, nums: Iterator[int]):\n",
        "    total = 0\n",
        "    count = 0\n",
        "    for n in nums:\n",
        "        total += n  # Суммируем значения\n",
        "        count += 1  # Подсчитываем количество элементов\n",
        "    if count > 0:\n",
        "        yield total / count  # Вычисляем среднее значение\n",
        "    else:\n",
        "        yield 0\n",
        "\n",
        "# Функция для группировки значений по ключу с использованием сортировки\n",
        "def group_by_key(iterable: List[Tuple[int, int]]):\n",
        "    grouped_data = {}\n",
        "    # Сортируем по ключу перед группировкой\n",
        "    for key, value in sorted(iterable, key=lambda x: x[0]):\n",
        "        grouped_data.setdefault(key, []).append(value)\n",
        "    return list(grouped_data.items())\n",
        "\n",
        "# Данные для тестирования\n",
        "sample_pairs = [(\"a\", 1), (\"b\", 2), (\"a\", 3), (\"b\", 4), (\"c\", 5)]\n",
        "\n",
        "# Применение MAP для получения ключей и значений\n",
        "map_output = list(map(lambda x: MAP(x), sample_pairs))\n",
        "print(\"MAP:\", map_output)\n",
        "\n",
        "# Группировка по ключу и преобразование в список\n",
        "shuffle_output = group_by_key(map_output)\n",
        "print(\"GroupByKey output:\", shuffle_output)\n",
        "\n",
        "# Применение функции REDUCE к результату группировки\n",
        "reduce_output = [next(REDUCE(key, values)) for key, values in shuffle_output]  # Применяем REDUCE и извлекаем значения\n",
        "print(\"Reduce:\", reduce_output)"
      ],
      "execution_count": 13,
      "outputs": [
        {
          "output_type": "stream",
          "name": "stdout",
          "text": [
            "MAP: [('a', 1), ('b', 2), ('a', 3), ('b', 4), ('c', 5)]\n",
            "GroupByKey output: [('a', [1, 3]), ('b', [2, 4]), ('c', [5])]\n",
            "Reduce: [2.0, 3.0, 5.0]\n"
          ]
        }
      ]
    },
    {
      "cell_type": "markdown",
      "metadata": {
        "id": "5SgEjCZyGnu6"
      },
      "source": [
        "### Drop duplicates (set construction, unique elements, distinct)\n",
        "\n",
        "Реализуйте распределённую операцию исключения дубликатов"
      ]
    },
    {
      "cell_type": "code",
      "source": [
        "import numpy as np\n",
        "from typing import Iterator\n",
        "\n",
        "def MAP(_, value):\n",
        "    yield value, None  # Каждое значение выдаётся с None, чтобы группировка работала\n",
        "\n",
        "def REDUCE(key: str, _):\n",
        "    yield key  # Функция идентичности (оставляем только ключ)\n",
        "\n",
        "# Функция flatten для разворачивания списков\n",
        "def flatten(nested_iterable):\n",
        "    for iterable in nested_iterable:\n",
        "        for element in iterable:\n",
        "            yield element\n",
        "\n",
        "# Функция для распределенной группировки\n",
        "def groupbykey_distributed(map_partitions, PARTITIONER):\n",
        "    global reducers\n",
        "    partitions = [{} for _ in range(reducers)]\n",
        "    for map_partition in map_partitions:\n",
        "        for key, value in map_partition:\n",
        "            partition_index = PARTITIONER(key)\n",
        "            partitions[partition_index].setdefault(key, []).append(value)\n",
        "\n",
        "    # Убираем пустые партиции\n",
        "    return [(partition_id, list(partition.items())) for partition_id, partition in enumerate(partitions) if partition]\n",
        "\n",
        "# Функция партиционирования\n",
        "def PARTITIONER(obj):\n",
        "    global reducers\n",
        "    return hash(obj) % reducers\n",
        "\n",
        "# Функция для выполнения MapReduce\n",
        "def MapReduceDistributed(INPUTFORMAT, MAP, REDUCE, PARTITIONER=PARTITIONER):\n",
        "    map_partitions = list(flatten(map(lambda record_reader: map(lambda k1v1: MAP(*k1v1), record_reader), INPUTFORMAT())))\n",
        "\n",
        "    # Группировка данных по ключам с разбиением по партициям\n",
        "    reduce_partitions = groupbykey_distributed(map_partitions, PARTITIONER)\n",
        "\n",
        "    # приводим reduce_outputs к списку\n",
        "    reduce_outputs = [(partition_id, list(flatten(map(lambda reduce_input_group: REDUCE(*reduce_input_group), partition))))\n",
        "                      for partition_id, partition in reduce_partitions]\n",
        "\n",
        "    return reduce_outputs\n",
        "\n",
        "# Данные для тестирования\n",
        "sample_data = [\"a\", \"b\", \"a\", \"c\", \"b\", \"d\", \"e\", \"d\"]\n",
        "maps = 3\n",
        "reducers = 2\n",
        "print(\"data:\", sample_data)\n",
        "\n",
        "def INPUTFORMAT():\n",
        "    global maps\n",
        "    def RECORDREADER(split):\n",
        "        for value in split:\n",
        "            yield (value, value)  # передаём значение дважды\n",
        "\n",
        "    split_size = int(np.ceil(len(sample_data) / maps))\n",
        "    for i in range(0, len(sample_data), split_size):\n",
        "        yield RECORDREADER(sample_data[i:i + split_size])\n",
        "\n",
        "# Выполнение распределенного MapReduce\n",
        "partitioned_output = MapReduceDistributed(INPUTFORMAT, MAP, REDUCE)\n",
        "print(\"Уникальные элементы:\", partitioned_output)"
      ],
      "metadata": {
        "colab": {
          "base_uri": "https://localhost:8080/"
        },
        "id": "ExEPfOdBBt29",
        "outputId": "89afe6d9-bf44-431c-9943-3d4145a0f1e0"
      },
      "execution_count": 14,
      "outputs": [
        {
          "output_type": "stream",
          "name": "stdout",
          "text": [
            "data: ['a', 'b', 'a', 'c', 'b', 'd', 'e', 'd']\n",
            "Уникальные элементы: [(0, ['a', 'c', 'd']), (1, ['b', 'e'])]\n"
          ]
        }
      ]
    },
    {
      "cell_type": "markdown",
      "metadata": {
        "id": "e7sRGoTXuJze"
      },
      "source": [
        "#Операторы реляционной алгебры\n",
        "### Selection (Выборка)\n",
        "\n",
        "**The Map Function**: Для  каждого кортежа $t \\in R$ вычисляется истинность предиката $C$. В случае истины создаётся пара ключ-значение $(t, t)$. В паре ключ и значение одинаковы, равны $t$.\n",
        "\n",
        "**The Reduce Function:** Роль функции Reduce выполняет функция идентичности, которая возвращает то же значение, что получила на вход.\n",
        "\n"
      ]
    },
    {
      "cell_type": "code",
      "source": [
        "from collections import defaultdict\n",
        "\n",
        "def C(t):\n",
        "    return t.startswith(\"a\")  # Фильтруем слова, начинающиеся на \"a\"\n",
        "\n",
        "def MAP(el_list):\n",
        "    mapped_result = defaultdict(set)  # Используем set() для удаления дубликатов\n",
        "    for t in el_list:\n",
        "        if C(t):\n",
        "            mapped_result[t].add(t)\n",
        "    return mapped_result.items()\n",
        "\n",
        "def REDUCE(mapped_items):\n",
        "    reduced_result = set()\n",
        "    for key, values in mapped_items:  # key - слово, values - set()\n",
        "        reduced_result.add(key)  # Добавляем только ключ\n",
        "    return sorted(reduced_result)  # Гарантируем сортировку\n",
        "\n",
        "# Данные для тестирования\n",
        "sample_data = [\"apple\", \"banana\", \"apricot\", \"cherry\", \"avocado\"]\n",
        "part_count = 4\n",
        "print(\"data:\", sample_data)\n",
        "\n",
        "# Разбиение записей на равные части\n",
        "record_partitioned = [sample_data[d:d + part_count] for d in range(0, len(sample_data), part_count)]\n",
        "\n",
        "# Применение Map и Reduce\n",
        "mapped_results = list(map(lambda x: MAP(x), record_partitioned))\n",
        "reduced_results = REDUCE(flatten(mapped_results))\n",
        "\n",
        "print(\"Фильтрованные слова на 'a':\", reduced_results)"
      ],
      "metadata": {
        "colab": {
          "base_uri": "https://localhost:8080/"
        },
        "id": "CyFSl8OZJ0k2",
        "outputId": "6f1f0142-8e0d-4dc3-eb64-d48de74eb73f"
      },
      "execution_count": 15,
      "outputs": [
        {
          "output_type": "stream",
          "name": "stdout",
          "text": [
            "data: ['apple', 'banana', 'apricot', 'cherry', 'avocado']\n",
            "Фильтрованные слова на 'a': ['apple', 'apricot', 'avocado']\n"
          ]
        }
      ]
    },
    {
      "cell_type": "markdown",
      "metadata": {
        "id": "w27Ca-_Ku85V"
      },
      "source": [
        "### Projection (Проекция)\n",
        "\n",
        "Проекция на множество атрибутов $S$.\n",
        "\n",
        "**The Map Function:** Для каждого кортежа $t \\in R$ создайте кортеж $t′$, исключая  из $t$ те значения, атрибуты которых не принадлежат  $S$. Верните пару $(t′, t′)$.\n",
        "\n",
        "**The Reduce Function:** Для каждого ключа $t′$, созданного любой Map задачей, вы получаете одну или несколько пар $(t′, t′)$. Reduce функция преобразует $(t′, [t′, t′, . . . , t′])$ в $(t′, t′)$, так, что для ключа $t′$ возвращается одна пара  $(t′, t′)$."
      ]
    },
    {
      "cell_type": "code",
      "metadata": {
        "id": "BEvuY4GqvhS6",
        "colab": {
          "base_uri": "https://localhost:8080/"
        },
        "outputId": "ea5bf243-4f6b-465b-f506-594832224e66"
      },
      "source": [
        "from typing import Iterator\n",
        "\n",
        "# Множество для проекции\n",
        "S = {0, 2}  # оставить только элементы с индексами 0 и 2\n",
        "\n",
        "# Функция MAP для проекции\n",
        "def MAP(_, value):\n",
        "    # Проекция: исключаем атрибуты, которые не принадлежат множеству S\n",
        "    t_prime = tuple(value[i] for i in S)\n",
        "    return (t_prime, t_prime)\n",
        "\n",
        "# Функция REDUCE для агрегации\n",
        "def REDUCE(key, values: Iterator[str]):\n",
        "    yield key, key\n",
        "\n",
        "# Функция для группировки значений по ключу\n",
        "def groupbykey(iterable):\n",
        "    grouped_data = {}\n",
        "    for key, value in iterable:\n",
        "        grouped_data.setdefault(key, []).append(value)  # Группируем значения по ключу\n",
        "    return grouped_data.items()  # Возвращаем список кортежей (ключ, список значений)\n",
        "\n",
        "# Данные для тестирования\n",
        "sample_data = [(\"a\", 1, \"red\"), (\"b\", 2, \"green\"), (\"a\", 3, \"blue\"), (\"b\", 4, \"yellow\"), (\"c\", 5, \"red\")]\n",
        "print(\"data:\", sample_data)\n",
        "\n",
        "# Функция MapReduce\n",
        "def MapReduce(data, MAP, REDUCE):\n",
        "    # Применяем MAP ко всем данным, затем группируем по ключу с помощью groupbykey\n",
        "    # Применяем REDUCE к сгруппированным данным\n",
        "    return flatten(map(lambda x: REDUCE(*x),groupbykey(flatten(map(lambda x: MAP(None, x), data)))))\n",
        "\n",
        "# Функция flatten для \"выравнивания\" вложенной структуры данных\n",
        "def flatten(nested_iterable):\n",
        "    for iterable in nested_iterable:\n",
        "        for element in iterable:\n",
        "            yield element\n",
        "\n",
        "# Выполнение MapReduce\n",
        "result = MapReduce(sample_data, MAP, REDUCE)\n",
        "print(\"MapReduce output:\", list(result))  # Преобразуем результат в список для вывода"
      ],
      "execution_count": 16,
      "outputs": [
        {
          "output_type": "stream",
          "name": "stdout",
          "text": [
            "data: [('a', 1, 'red'), ('b', 2, 'green'), ('a', 3, 'blue'), ('b', 4, 'yellow'), ('c', 5, 'red')]\n",
            "MapReduce output: [('a', 'a'), ('b', 'b'), ('c', 'c')]\n"
          ]
        }
      ]
    },
    {
      "cell_type": "markdown",
      "metadata": {
        "id": "7gau6lKXvn2R"
      },
      "source": [
        "### Union (Объединение)\n",
        "\n",
        "**The Map Function:** Превратите каждый входной кортеж $t$ в пару ключ-значение $(t, t)$.\n",
        "\n",
        "**The Reduce Function:** С каждым ключом $t$ будет ассоциировано одно или два значений. В обоих случаях создайте $(t, t)$ в качестве выходного значения."
      ]
    },
    {
      "cell_type": "code",
      "metadata": {
        "id": "Sns7a5agv3nw",
        "colab": {
          "base_uri": "https://localhost:8080/"
        },
        "outputId": "11aa7710-7c7f-40e3-9494-cf42ffa3815b"
      },
      "source": [
        "from typing import Iterator\n",
        "\n",
        "# Функция MAP для объединения\n",
        "def MAP(value):\n",
        "    return (value, value)  # Каждому входному кортежу ставим в соответствие пару (t, t)\n",
        "\n",
        "# Функция REDUCE для объединения\n",
        "def REDUCE(key, values: Iterator[str]):\n",
        "    yield key, key  # Всегда создаем (t, t) в качестве выходного значения\n",
        "\n",
        "# Функция flatten для \"выравнивания\" вложенной структуры данных\n",
        "def flatten(nested_iterable):\n",
        "    for iterable in nested_iterable:\n",
        "        for element in iterable:\n",
        "            yield element\n",
        "\n",
        "# Данные для тестирования\n",
        "sample_data = [(\"a\", 1, \"red\"), (\"b\", 2, \"green\"), (\"a\", 3, \"blue\"), (\"b\", 4, \"yellow\"), (\"c\", 5, \"red\")]\n",
        "\n",
        "map_output = list(map(lambda x: MAP(x), sample_data))  # Применяем функцию MAP ко всем элементам sample_data\n",
        "print(\"MAP output:\", map_output)\n",
        "\n",
        "reduce_output = list(flatten(map(lambda x: REDUCE(*x), shuffle_output)))  # Применяем функцию REDUCE с flatten\n",
        "print(\"Reduce output:\", reduce_output)\n"
      ],
      "execution_count": 20,
      "outputs": [
        {
          "output_type": "stream",
          "name": "stdout",
          "text": [
            "MAP output: [(('a', 1, 'red'), ('a', 1, 'red')), (('b', 2, 'green'), ('b', 2, 'green')), (('a', 3, 'blue'), ('a', 3, 'blue')), (('b', 4, 'yellow'), ('b', 4, 'yellow')), (('c', 5, 'red'), ('c', 5, 'red'))]\n",
            "Reduce output: [('a', 'a'), ('b', 'b'), ('c', 'c')]\n"
          ]
        }
      ]
    },
    {
      "cell_type": "markdown",
      "metadata": {
        "id": "dQ8TuEbjv4J8"
      },
      "source": [
        "### Intersection (Пересечение)\n",
        "\n",
        "**The Map Function:** Превратите каждый кортеж $t$ в пары ключ-значение $(t, t)$.\n",
        "\n",
        "**The Reduce Function:** Если для ключа $t$ есть список из двух элементов $[t, t]$ $-$ создайте пару $(t, t)$. Иначе, ничего не создавайте."
      ]
    },
    {
      "cell_type": "code",
      "metadata": {
        "id": "XKlBZh4IwERR",
        "colab": {
          "base_uri": "https://localhost:8080/"
        },
        "outputId": "287adac8-9d39-4d5f-a468-f95ffa1fec5d"
      },
      "source": [
        "from typing import Iterator\n",
        "from collections import defaultdict\n",
        "\n",
        "# Функция MAP для пересечения\n",
        "def MAP(value):\n",
        "    return [(value, 1)]  # Создаем корректную пару (ключ, значение)\n",
        "\n",
        "# Функция REDUCE для пересечения\n",
        "def REDUCE(key, values: Iterator[int]):\n",
        "    if len(values) == 2:\n",
        "        yield key, key  # Создаем пару (t, t)\n",
        "\n",
        "# Функция flatten для \"выравнивания\" вложенной структуры данных\n",
        "def flatten(nested_iterable):\n",
        "    for iterable in nested_iterable:\n",
        "        for element in iterable:\n",
        "            yield element\n",
        "\n",
        "# Функция shuffle\n",
        "def shuffle(mapped_data):\n",
        "    grouped_data = defaultdict(list)\n",
        "    for key, value in mapped_data:\n",
        "        grouped_data[key].append(value)\n",
        "    return grouped_data.items()\n",
        "\n",
        "# Данные для тестирования\n",
        "sample_data = [(\"a\", 1, \"red\"), (\"b\", 2, \"green\"), (\"a\", 3, \"blue\"), (\"b\", 4, \"yellow\"), (\"c\", 5, \"red\"), (\"a\", 1, \"red\"), (\"b\", 2, \"green\")]\n",
        "\n",
        "# Применяем MAP\n",
        "map_output = list(flatten(map(MAP, sample_data)))\n",
        "print(\"MAP output:\", map_output)\n",
        "\n",
        "# Группируем данные (shuffle step)\n",
        "shuffle_output = shuffle(map_output)\n",
        "print(\"Shuffle output:\", list(shuffle_output))\n",
        "\n",
        "# Применяем REDUCE\n",
        "reduce_output = list(flatten(map(lambda x: REDUCE(*x), shuffle_output)))\n",
        "print(\"Reduce output:\", reduce_output)"
      ],
      "execution_count": 25,
      "outputs": [
        {
          "output_type": "stream",
          "name": "stdout",
          "text": [
            "MAP output: [(('a', 1, 'red'), 1), (('b', 2, 'green'), 1), (('a', 3, 'blue'), 1), (('b', 4, 'yellow'), 1), (('c', 5, 'red'), 1), (('a', 1, 'red'), 1), (('b', 2, 'green'), 1)]\n",
            "Shuffle output: [(('a', 1, 'red'), [1, 1]), (('b', 2, 'green'), [1, 1]), (('a', 3, 'blue'), [1]), (('b', 4, 'yellow'), [1]), (('c', 5, 'red'), [1])]\n",
            "Reduce output: [(('a', 1, 'red'), ('a', 1, 'red')), (('b', 2, 'green'), ('b', 2, 'green'))]\n"
          ]
        }
      ]
    },
    {
      "cell_type": "markdown",
      "metadata": {
        "id": "AVOpqoY3wE5k"
      },
      "source": [
        "### Difference (Разница)\n",
        "\n",
        "**The Map Function:** Для кортежа $t \\in R$, создайте пару $(t, R)$, и для кортежа $t \\in S$, создайте пару $(t, S)$. Задумка заключается в том, чтобы значение пары было именем отношения $R$ or $S$, которому принадлежит кортеж (а лучше, единичный бит, по которому можно два отношения различить $R$ or $S$), а не весь набор атрибутов отношения.\n",
        "\n",
        "**The Reduce Function:** Для каждого ключа $t$, если соответствующее значение является списком $[R]$, создайте пару $(t, t)$. В иных случаях не предпринимайте действий."
      ]
    },
    {
      "cell_type": "code",
      "metadata": {
        "id": "QE_AC09lwZIZ",
        "colab": {
          "base_uri": "https://localhost:8080/"
        },
        "outputId": "a9251427-ba25-4e71-e5d9-47e050375d60"
      },
      "source": [
        "from typing import Iterator\n",
        "\n",
        "# Функция MAP для разницы\n",
        "def MAP(value, relation):\n",
        "    return (value, relation)  # Создаем пару (t, R) или (t, S)\n",
        "\n",
        "# Функция REDUCE для разницы\n",
        "def REDUCE(key, values: Iterator[str]):\n",
        "    if values == [\"R\"]:  # Если ключ принадлежит только R\n",
        "        yield key  # Создаем пару (t, t)\n",
        "\n",
        "# Функция для группировки значений по ключу\n",
        "def group_by_key(iterable):\n",
        "    t = {}\n",
        "    for (k2, v2) in iterable:\n",
        "        t[k2] = t.get(k2, []) + [v2]  # Группируем значения по ключу k2\n",
        "    return t.items()\n",
        "\n",
        "# Функция flatten для вложенной структуры данных\n",
        "def flatten(nested_iterable):\n",
        "    for iterable in nested_iterable:\n",
        "        for element in iterable:\n",
        "            yield element\n",
        "\n",
        "# Данные для тестирования\n",
        "R = [(\"a\", 1, \"red\"), (\"b\", 2, \"green\"), (\"a\", 3, \"blue\")]\n",
        "S = [(\"p\", 5, \"pink\"), (\"h\", 8, \"black\")]\n",
        "\n",
        "# Применяем MAP ко всем элементам R и S\n",
        "map_output = list(map(lambda x: MAP(x, \"R\"), R)) + list(map(lambda x: MAP(x, \"S\"), S))\n",
        "print(\"MAP output:\", map_output)\n",
        "\n",
        "make_output = group_by_key(map_output)  # Группируем значения по ключу\n",
        "make_output = list(make_output)  # Преобразуем результат в список\n",
        "print(\"Make output:\", make_output)\n",
        "\n",
        "reduce_output = list(flatten(map(lambda x: REDUCE(*x), make_output)))  # Применяем функцию REDUCE с flatten\n",
        "print(\"Reduce output:\", reduce_output)"
      ],
      "execution_count": 34,
      "outputs": [
        {
          "output_type": "stream",
          "name": "stdout",
          "text": [
            "MAP output: [(('a', 1, 'red'), 'R'), (('b', 2, 'green'), 'R'), (('a', 3, 'blue'), 'R'), (('p', 5, 'pink'), 'S'), (('h', 8, 'black'), 'S')]\n",
            "Make output: [(('a', 1, 'red'), ['R']), (('b', 2, 'green'), ['R']), (('a', 3, 'blue'), ['R']), (('p', 5, 'pink'), ['S']), (('h', 8, 'black'), ['S'])]\n",
            "Reduce output: [('a', 1, 'red'), ('b', 2, 'green'), ('a', 3, 'blue')]\n"
          ]
        }
      ]
    },
    {
      "cell_type": "markdown",
      "metadata": {
        "id": "j8I58V2VwhSm"
      },
      "source": [
        "### Natural Join\n",
        "\n",
        "**The Map Function:** Для каждого кортежа $(a, b)$ отношения $R$, создайте пару $(b,(R, a))$. Для каждого кортежа $(b, c)$ отношения $S$, создайте пару $(b,(S, c))$.\n",
        "\n",
        "**The Reduce Function:** Каждый ключ $b$ будет асоциирован со списком пар, которые принимают форму либо $(R, a)$, либо $(S, c)$. Создайте все пары, одни, состоящие из  первого компонента $R$, а другие, из первого компонента $S$, то есть $(R, a)$ и $(S, c)$. На выходе вы получаете последовательность пар ключ-значение из списков ключей и значений. Ключ не нужен. Каждое значение, это тройка $(a, b, c)$ такая, что $(R, a)$ и $(S, c)$ это принадлежат входному списку значений."
      ]
    },
    {
      "cell_type": "code",
      "metadata": {
        "id": "yHiuuTctw86I",
        "colab": {
          "base_uri": "https://localhost:8080/"
        },
        "outputId": "fdc7e622-d34b-4d30-858c-9f9bc2cf2a3b"
      },
      "source": [
        "from typing import Iterator\n",
        "\n",
        "# Функция MAP для естественного соединения\n",
        "def MAP(value, relation):\n",
        "    if relation == \"R\":\n",
        "        return (value[1], (\"R\", value[0]))  # (b, (R, a))\n",
        "    elif relation == \"S\":\n",
        "        return (value[0], (\"S\", value[1]))  # (b, (S, c))\n",
        "\n",
        "# Функция REDUCE для естественного соединения\n",
        "def REDUCE(key, values: Iterator[str]):\n",
        "    r_values = [v[1] for v in values if v[0] == \"R\"]  # Извлекаем все (R, a)\n",
        "    s_values = [v[1] for v in values if v[0] == \"S\"]  # Извлекаем все (S, c)\n",
        "\n",
        "    for a in r_values:\n",
        "        for c in s_values:\n",
        "            yield (a, key, c)  # Создаем (a, b, c)\n",
        "\n",
        "# Функция для группировки значений по ключу\n",
        "def group_by_key(iterable):\n",
        "    t = {}\n",
        "    for (k2, v2) in iterable:\n",
        "        t[k2] = t.get(k2, []) + [v2]  # Группируем значения по ключу k2\n",
        "    return t.items()\n",
        "\n",
        "# Функция flatten для \"выравнивания\" вложенной структуры данных\n",
        "def flatten(nested_iterable):\n",
        "    for iterable in nested_iterable:\n",
        "        for element in iterable:\n",
        "            yield element\n",
        "\n",
        "# Данные для тестирования\n",
        "R = [(\"a\", 1), (\"b\", 2), (\"c\", 3)]\n",
        "S = [(1, \"x\"), (2, \"y\"), (4, \"z\")]\n",
        "\n",
        "# Применяем MAP ко всем элементам R и S\n",
        "map_output = list(map(lambda x: MAP(x, \"R\"), R)) + list(map(lambda x: MAP(x, \"S\"), S))\n",
        "print(\"MAP output:\", map_output)\n",
        "\n",
        "make_output = group_by_key(map_output)  # Группируем значения по ключу\n",
        "make_output = list(make_output)  # Преобразуем результат в список\n",
        "print(\"Make output:\", make_output)\n",
        "\n",
        "reduce_output = list(flatten(map(lambda x: REDUCE(*x), make_output)))  # Применяем функцию REDUCE с flatten\n",
        "print(\"Reduce output:\", reduce_output)"
      ],
      "execution_count": 36,
      "outputs": [
        {
          "output_type": "stream",
          "name": "stdout",
          "text": [
            "MAP output: [(1, ('R', 'a')), (2, ('R', 'b')), (3, ('R', 'c')), (1, ('S', 'x')), (2, ('S', 'y')), (4, ('S', 'z'))]\n",
            "Make output: [(1, [('R', 'a'), ('S', 'x')]), (2, [('R', 'b'), ('S', 'y')]), (3, [('R', 'c')]), (4, [('S', 'z')])]\n",
            "Reduce output: [('a', 1, 'x'), ('b', 2, 'y')]\n"
          ]
        }
      ]
    },
    {
      "cell_type": "markdown",
      "metadata": {
        "id": "kYdlr0YUxE27"
      },
      "source": [
        "### Grouping and Aggregation (Группировка и аггрегация)\n",
        "\n",
        "**The Map Function:** Для каждого кортежа $(a, b, c$) создайте пару $(a, b)$.\n",
        "\n",
        "**The Reduce Function:** Ключ представляет ту или иную группу. Примение аггрегирующую операцию $\\theta$ к списку значений $[b1, b2, . . . , bn]$ ассоциированных с ключом $a$. Возвращайте в выходной поток $(a, x)$, где $x$ результат применения  $\\theta$ к списку. Например, если $\\theta$ это $SUM$, тогда $x = b1 + b2 + · · · + bn$, а если $\\theta$ is $MAX$, тогда $x$ это максимальное из значений $b1, b2, . . . , bn$."
      ]
    },
    {
      "cell_type": "code",
      "metadata": {
        "id": "MLPckfEGxico",
        "colab": {
          "base_uri": "https://localhost:8080/"
        },
        "outputId": "aa3b7395-9487-43f4-b000-11a14789cb6a"
      },
      "source": [
        "from typing import Iterator, NamedTuple, List, Tuple\n",
        "\n",
        "# Функция MAP: группирует данные по (a, b)\n",
        "def MAP(_, row: Tuple[str, int, int]):\n",
        "    yield (row[0], row[1])  # (a, b) - убираем c\n",
        "\n",
        "# Функция REDUCE: выполняет агрегацию (например, SUM или MAX)\n",
        "def REDUCE(key: str, values: Iterator[int], aggregation=\"SUM\"):\n",
        "    if aggregation == \"SUM\":\n",
        "        yield (key, sum(values))  # Суммирование значений b\n",
        "    elif aggregation == \"MAX\":\n",
        "        yield (key, max(values))  # Максимум среди значений b\n",
        "    else:\n",
        "        raise ValueError(\"Unknown aggregation function. Use 'SUM' or 'MAX'.\")\n",
        "\n",
        "# Функция группировки по ключу\n",
        "def groupbykey(iterable):\n",
        "    grouped_data = {}\n",
        "    for key, value in iterable:\n",
        "        grouped_data.setdefault(key, []).append(value)  # Группируем значения по ключу a\n",
        "    return grouped_data.items()\n",
        "\n",
        "# Функция flatten\n",
        "def flatten(nested_iterable):\n",
        "    for iterable in nested_iterable:\n",
        "        for element in iterable:\n",
        "            yield element\n",
        "\n",
        "# Функция MapReduce\n",
        "def MapReduce(data: List[Tuple[str, int, int]], MAP, REDUCE, aggregation=\"SUM\"):\n",
        "    return flatten(\n",
        "        map(lambda x: REDUCE(*x, aggregation),  # Применяем REDUCE к каждой группе данных\n",
        "            groupbykey(flatten(map(lambda x: MAP(None, x), data)))  # Применяем MAP и группируем\n",
        "        ))\n",
        "\n",
        "# Данные для тестирования\n",
        "sample_data = [(\"a\", 10, 100), (\"b\", 20, 200), (\"a\", 30, 300), (\"b\", 40, 400), (\"c\", 50, 500)]\n",
        "\n",
        "# Выполнение MapReduce с SUM\n",
        "result_sum = MapReduce(sample_data, MAP, REDUCE, aggregation=\"SUM\")\n",
        "print(\"Aggregation (SUM):\", list(result_sum))\n",
        "\n",
        "# Выполнение MapReduce с MAX\n",
        "result_max = MapReduce(sample_data, MAP, REDUCE, aggregation=\"MAX\")\n",
        "print(\"Aggregation (MAX):\", list(result_max))"
      ],
      "execution_count": 37,
      "outputs": [
        {
          "output_type": "stream",
          "name": "stdout",
          "text": [
            "Aggregation (SUM): [('a', 40), ('b', 60), ('c', 50)]\n",
            "Aggregation (MAX): [('a', 30), ('b', 40), ('c', 50)]\n"
          ]
        }
      ]
    },
    {
      "cell_type": "markdown",
      "metadata": {
        "id": "IIrRgvG4RIS4"
      },
      "source": [
        "### Matrix-Vector multiplication\n",
        "\n",
        "Случай, когда вектор не помещается в памяти Map задачи\n"
      ]
    },
    {
      "cell_type": "code",
      "metadata": {
        "id": "KQhDbiL3zS9r",
        "colab": {
          "base_uri": "https://localhost:8080/"
        },
        "outputId": "e669b586-0d8b-4a83-b700-f351fae7f706"
      },
      "source": [
        "from typing import Iterator, NamedTuple\n",
        "import numpy as np\n",
        "\n",
        "# Определение структуры для представления элементов матрицы\n",
        "class MatrixElement(NamedTuple):\n",
        "    row: int\n",
        "    col: int\n",
        "    value: float\n",
        "\n",
        "# Матрица (5x4)\n",
        "mat = np.ones((5, 4))\n",
        "print(\"Matrix: \", mat)\n",
        "# Вектор (4,)\n",
        "vec = np.random.rand(4)  # Вектор для умножения\n",
        "print(\"Vector: \", vec)\n",
        "\n",
        "# Функция MAP: передаем только индекс строки и значение\n",
        "def MAP(_, row: MatrixElement):\n",
        "    yield (row.row, (row.col, row.value))\n",
        "\n",
        "# Функция REDUCE: cуммирование произведений для строки\n",
        "def REDUCE(i: int, products: Iterator[Tuple[int, float]]):\n",
        "    total = 0\n",
        "    for col, value in products:\n",
        "        total += value * vec[col]  # Умножаем значение на соответствующий элемент вектора\n",
        "    yield (i, total)  # Возвращаем результат для строки i\n",
        "\n",
        "# Функция для группировки значений по ключу\n",
        "def groupbykey(iterable):\n",
        "    grouped_data = {}\n",
        "    for key, value in iterable:\n",
        "        grouped_data.setdefault(key, []).append(value)  # Группируем значения по ключу\n",
        "    return grouped_data.items()\n",
        "\n",
        "# Функция для вложенной структуры данных\n",
        "def flatten(nested_iterable):\n",
        "    for iterable in nested_iterable:\n",
        "        for element in iterable:\n",
        "            yield element\n",
        "\n",
        "# Функция MapReduce для умножения матрицы на вектор\n",
        "def MapReduce(matrix: np.ndarray, vector: np.ndarray, MAP, REDUCE):\n",
        "    # Генерируем все элементы матрицы в виде объектов MatrixElement\n",
        "    matrix_elements = [MatrixElement(i, j, matrix[i, j]) for i in range(matrix.shape[0]) for j in range(matrix.shape[1])]\n",
        "\n",
        "    # Применяем MAP ко всем элементам матрицы\n",
        "    map_results = flatten(map(lambda x: MAP(None, x), matrix_elements))  # Применяем MAP ко всем элементам матрицы\n",
        "\n",
        "    # Группируем по строкам и применяем REDUCE\n",
        "    return flatten(map(lambda x: REDUCE(*x), groupbykey(map_results)))\n",
        "\n",
        "# Выполнение MapReduce\n",
        "output = MapReduce(mat, vec, MAP, REDUCE)\n",
        "output = list(output)\n",
        "\n",
        "print(\"Matrix-Vector multiplication result:\", output)"
      ],
      "execution_count": 38,
      "outputs": [
        {
          "output_type": "stream",
          "name": "stdout",
          "text": [
            "Matrix:  [[1. 1. 1. 1.]\n",
            " [1. 1. 1. 1.]\n",
            " [1. 1. 1. 1.]\n",
            " [1. 1. 1. 1.]\n",
            " [1. 1. 1. 1.]]\n",
            "Vector:  [0.03048744 0.63120279 0.45847886 0.63021976]\n",
            "Matrix-Vector multiplication result: [(0, 1.7503888535026086), (1, 1.7503888535026086), (2, 1.7503888535026086), (3, 1.7503888535026086), (4, 1.7503888535026086)]\n"
          ]
        }
      ]
    },
    {
      "cell_type": "markdown",
      "metadata": {
        "id": "GIo2t7nNxvA9"
      },
      "source": [
        "## Matrix multiplication (Перемножение матриц)\n",
        "\n",
        "Если у нас есть матрица $M$ с элементами $m_{ij}$ в строке $i$ и столбце $j$, и матрица $N$ с элементами $n_{jk}$ в строке $j$ и столбце $k$, тогда их произведение $P = MN$ есть матрица $P$ с элементами $p_{ik}$ в строке $i$ и столбце $k$, где\n",
        "\n",
        "$$p_{ik} =\\sum_{j} m_{ij}n_{jk}$$\n",
        "\n",
        "Необходимым требованием является одинаковое количество столбцов в $M$ и строк в $N$, чтобы операция суммирования по  $j$ была осмысленной. Мы можем размышлять о матрице, как об отношении с тремя атрибутами: номер строки, номер столбца, само значение. Таким образом матрица $M$ предстваляется как отношение $ M(I, J, V )$, с кортежами $(i, j, m_{ij})$, и, аналогично, матрица $N$ представляется как отношение $N(J, K, W)$, с кортежами $(j, k, n_{jk})$. Так как большие матрицы как правило разреженные (большинство значений равно 0), и так как мы можем нулевыми значениями пренебречь (не хранить), такое реляционное представление достаточно эффективно для больших матриц. Однако, возможно, что координаты $i$, $j$, и $k$ неявно закодированы в смещение позиции элемента относительно начала файла, вместо явного хранения. Тогда, функция Map (или Reader) должна быть разработана таким образом, чтобы реконструировать компоненты $I$, $J$, и $K$ кортежей из смещения.\n",
        "\n",
        "Произведение $MN$ это фактически join, за которым следуют группировка по ключу и аггрегация. Таким образом join отношений $M(I, J, V )$ и $N(J, K, W)$, имеющих общим только атрибут $J$, создаст кортежи $(i, j, k, v, w)$ из каждого кортежа $(i, j, v) \\in M$ и кортежа $(j, k, w) \\in N$. Такой 5 компонентный кортеж представляет пару элементов матрицы $(m_{ij} , n_{jk})$. Что нам хотелось бы получить на самом деле, это произведение этих элементов, то есть, 4 компонентный кортеж$(i, j, k, v \\times w)$, так как он представляет произведение $m_{ij}n_{jk}$. Мы представляем отношение как результат одной MapReduce операции, в которой мы можем произвести группировку и аггрегацию, с $I$ и $K$  атрибутами, по которым идёт группировка, и суммой  $V \\times W$.\n",
        "\n",
        "\n",
        "\n"
      ]
    },
    {
      "cell_type": "code",
      "metadata": {
        "id": "1MBkGaLAYVCt"
      },
      "source": [
        "# MapReduce model\n",
        "def flatten(nested_iterable):\n",
        "  for iterable in nested_iterable:\n",
        "    for element in iterable:\n",
        "      yield element\n",
        "\n",
        "def groupbykey(iterable):\n",
        "  t = {}\n",
        "  for (k2, v2) in iterable:\n",
        "    t[k2] = t.get(k2, []) + [v2]\n",
        "  return t.items()\n",
        "\n",
        "def MapReduce(RECORDREADER, MAP, REDUCE):\n",
        "  return flatten(map(lambda x: REDUCE(*x), groupbykey(flatten(map(lambda x: MAP(*x), RECORDREADER())))))"
      ],
      "execution_count": null,
      "outputs": []
    },
    {
      "cell_type": "markdown",
      "metadata": {
        "id": "sMspsOT0ZB35"
      },
      "source": [
        "Реализуйте перемножение матриц с использованием модельного кода MapReduce для одной машины в случае, когда одна матрица хранится в памяти, а другая генерируется RECORDREADER-ом."
      ]
    },
    {
      "cell_type": "code",
      "metadata": {
        "id": "psP1XekbsEjS"
      },
      "source": [
        "import numpy as np\n",
        "I = 2\n",
        "J = 3\n",
        "K = 4*10\n",
        "small_mat = np.random.rand(I,J) # it is legal to access this from RECORDREADER, MAP, REDUCE\n",
        "big_mat = np.random.rand(J,K)\n",
        "\n",
        "def RECORDREADER():\n",
        "  for j in range(big_mat.shape[0]):\n",
        "    for k in range(big_mat.shape[1]):\n",
        "      yield ((j,k), big_mat[j,k])\n",
        "\n",
        "def MAP(k1, v1):\n",
        "  (j, k) = k1\n",
        "  w = v1\n",
        "  # solution code that yield(k2,v2) pairs\n",
        "\n",
        "def REDUCE(key, values):\n",
        "  (i, k) = key\n",
        "  # solution code that yield(k3,v3) pairs"
      ],
      "execution_count": null,
      "outputs": []
    },
    {
      "cell_type": "markdown",
      "metadata": {
        "id": "rnt306LHhHrm"
      },
      "source": [
        "Проверьте своё решение"
      ]
    },
    {
      "cell_type": "code",
      "metadata": {
        "id": "Ewy_ZNYqW5a2",
        "colab": {
          "base_uri": "https://localhost:8080/",
          "height": 34
        },
        "outputId": "9ce264f2-9412-44e2-9b0a-cc780573ab3a"
      },
      "source": [
        "# CHECK THE SOLUTION\n",
        "reference_solution = np.matmul(small_mat, big_mat)\n",
        "solution = MapReduce(RECORDREADER, MAP, REDUCE)\n",
        "\n",
        "def asmatrix(reduce_output):\n",
        "  reduce_output = list(reduce_output)\n",
        "  I = max(i for ((i,k), vw) in reduce_output)+1\n",
        "  K = max(k for ((i,k), vw) in reduce_output)+1\n",
        "  mat = np.empty(shape=(I,K))\n",
        "  for ((i,k), vw) in reduce_output:\n",
        "    mat[i,k] = vw\n",
        "  return mat\n",
        "\n",
        "np.allclose(reference_solution, asmatrix(solution)) # should return true"
      ],
      "execution_count": null,
      "outputs": [
        {
          "output_type": "execute_result",
          "data": {
            "text/plain": [
              "True"
            ]
          },
          "metadata": {
            "tags": []
          },
          "execution_count": 33
        }
      ]
    },
    {
      "cell_type": "code",
      "metadata": {
        "id": "TK7v4CEcfxqf",
        "colab": {
          "base_uri": "https://localhost:8080/",
          "height": 34
        },
        "outputId": "2c865d0a-4065-4e6b-c83f-5508ed5eb4fa"
      },
      "source": [
        "reduce_output = list(MapReduce(RECORDREADER, MAP, REDUCE))\n",
        "max(i for ((i,k), vw) in reduce_output)"
      ],
      "execution_count": null,
      "outputs": [
        {
          "output_type": "execute_result",
          "data": {
            "text/plain": [
              "1"
            ]
          },
          "metadata": {
            "tags": []
          },
          "execution_count": 32
        }
      ]
    },
    {
      "cell_type": "markdown",
      "metadata": {
        "id": "i4yyg3kOZqJJ"
      },
      "source": [
        "Реализуйте перемножение матриц  с использованием модельного кода MapReduce для одной машины в случае, когда обе матрицы генерируются в RECORDREADER. Например, сначала одна, а потом другая."
      ]
    },
    {
      "cell_type": "code",
      "metadata": {
        "id": "3B7rIAJCaHZq",
        "colab": {
          "base_uri": "https://localhost:8080/"
        },
        "outputId": "b0132cc3-b303-4042-8b0c-4590e533c0ad"
      },
      "source": [
        "import numpy as np\n",
        "\n",
        "# Размерности матриц\n",
        "I = 2\n",
        "J = 3\n",
        "K = 4 * 10\n",
        "\n",
        "# Генерация случайных матриц\n",
        "small_mat = np.random.rand(I, J)  # small_mat (I×J)\n",
        "big_mat = np.random.rand(J, K)    # big_mat (J×K)\n",
        "\n",
        "# Вывод матриц для визуализации\n",
        "print(\"Матрица small_mat (размерность {}x{}):\")\n",
        "print(small_mat)\n",
        "print(\"\\nМатрица big_mat (размерность {}x{}):\")\n",
        "print(big_mat)\n",
        "\n",
        "# Эталонное решение для проверки\n",
        "reference_solution = np.matmul(small_mat, big_mat)\n",
        "\n",
        "# RECORDREADER генерирует пары ключ-значение для обеих матриц\n",
        "def RECORDREADER():\n",
        "    # Генерация элементов из первой матрицы small_mat\n",
        "    for i in range(small_mat.shape[0]):\n",
        "        for j in range(small_mat.shape[1]):\n",
        "            yield ((0, i, j), small_mat[i, j])  # Индекс 0 для small_mat\n",
        "\n",
        "    # Генерация элементов из второй матрицы big_mat\n",
        "    for j in range(big_mat.shape[0]):\n",
        "        for k in range(big_mat.shape[1]):\n",
        "            yield ((1, j, k), big_mat[j, k])  # Индекс 1 для big_mat\n",
        "\n",
        "# Функция MAP_JOIN создает пары, которые можно соединить по общему индексу\n",
        "def MAP_JOIN(k1, v1):\n",
        "    (mat_num, i, j) = k1  # Распаковка ключа\n",
        "    if mat_num == 0:  # Для small_mat\n",
        "        # Создаем пару для дальнейшего соединения\n",
        "        yield (j, (mat_num, i, v1))\n",
        "    elif mat_num == 1:  # Для big_mat\n",
        "        # Создаем пару для дальнейшего соединения\n",
        "        yield (i, (mat_num, j, v1))\n",
        "\n",
        "# REDUCE_JOIN собирает элементы по ключу и умножает соответствующие элементы\n",
        "def REDUCE_JOIN(key, values):\n",
        "    # Разделяем значения на две группы: из первой и второй матрицы\n",
        "    from_first_mat = [v for v in values if v[0] == 0]\n",
        "    from_second_mat = [v for v in values if v[0] == 1]\n",
        "\n",
        "    # Перемножаем элементы из первой и второй матриц\n",
        "    for f in from_first_mat:\n",
        "        for s in from_second_mat:\n",
        "            yield ((f[1], s[1]), f[2] * s[2])  # Умножение соответствующих элементов\n",
        "\n",
        "# Функция MAP_MUL распределяет произведенные элементы по индексу (i, k)\n",
        "def MAP_MUL(k1, v1):\n",
        "    (i, k) = k1\n",
        "    yield ((i, k), v1)  # Отправляем пару (i, k) с соответствующим произведением\n",
        "\n",
        "# REDUCE_MUL суммирует произведения для каждого индекса (i, k)\n",
        "def REDUCE_MUL(key, values):\n",
        "    res_el_value = sum(values)  # Суммируем все значения для данного ключа\n",
        "    yield (key, res_el_value)  # Отправляем результат\n",
        "\n",
        "# Функция для преобразования выводов MapReduce в матрицу\n",
        "def asmatrix(reduce_output):\n",
        "    reduce_output = list(reduce_output)\n",
        "    I = max(i for ((i, k), _) in reduce_output) + 1\n",
        "    K = max(k for ((i, k), _) in reduce_output) + 1\n",
        "    mat = np.empty((I, K))\n",
        "    for ((i, k), v) in reduce_output:\n",
        "        mat[i, k] = v\n",
        "    return mat\n",
        "\n",
        "# Основная функция MapReduce\n",
        "def MapReduce(RECORDREADER, MAP, REDUCE):\n",
        "    # Выполняем MapReduce с использованием функций RECORDREADER, MAP и REDUCE\n",
        "    return flatten(map(lambda x: REDUCE(*x), groupbykey(flatten(map(lambda x: MAP(*x), RECORDREADER())))))\n",
        "\n",
        "# Вспомогательные функции для работы с MapReduce\n",
        "def flatten(nested_iterable):\n",
        "    for iterable in nested_iterable:\n",
        "        for element in iterable:\n",
        "            yield element\n",
        "\n",
        "def groupbykey(iterable):\n",
        "    t = {}\n",
        "    for (k2, v2) in iterable:\n",
        "        t[k2] = t.get(k2, []) + [v2]\n",
        "    return t.items()\n",
        "\n",
        "# Выполнение MapReduce для получения результата\n",
        "joined = MapReduce(RECORDREADER, MAP_JOIN, REDUCE_JOIN)\n",
        "solution = MapReduce(lambda: joined, MAP_MUL, REDUCE_MUL)\n",
        "\n",
        "# Преобразуем вывод MapReduce в матрицу\n",
        "mapreduce_result = asmatrix(solution)\n",
        "\n",
        "# Вывод матрицы результата\n",
        "print(\"\\nРешение через MapReduce:\")\n",
        "print(mapreduce_result)\n",
        "\n",
        "# Проверка, что решение через MapReduce равно истинному решению\n",
        "print(\"\\nПроверка на совпадение с истинным решением:\", np.allclose(reference_solution, mapreduce_result))"
      ],
      "execution_count": 39,
      "outputs": [
        {
          "output_type": "stream",
          "name": "stdout",
          "text": [
            "Матрица small_mat (размерность {}x{}):\n",
            "[[0.44510582 0.12370698 0.76443164]\n",
            " [0.58837589 0.78511671 0.30896753]]\n",
            "\n",
            "Матрица big_mat (размерность {}x{}):\n",
            "[[0.39115355 0.98114278 0.44036857 0.37777387 0.83373695 0.96329351\n",
            "  0.15705398 0.48100761 0.33484315 0.87286675 0.91618507 0.14842461\n",
            "  0.91932193 0.13364551 0.09396709 0.63013056 0.57180855 0.54315852\n",
            "  0.56489191 0.76349523 0.79978919 0.62375615 0.71359342 0.30695617\n",
            "  0.02533333 0.13808222 0.0164084  0.97315514 0.83691632 0.51403966\n",
            "  0.39514487 0.95229579 0.62625114 0.6785523  0.18208847 0.72561575\n",
            "  0.73064519 0.29335862 0.69737893 0.7360569 ]\n",
            " [0.21607802 0.65558106 0.67346101 0.13475383 0.92353899 0.95778129\n",
            "  0.60934769 0.01934773 0.4057042  0.36809447 0.55434696 0.14901832\n",
            "  0.92753021 0.05065735 0.44651027 0.8107101  0.19274698 0.35030077\n",
            "  0.60411463 0.03685685 0.74270448 0.10706775 0.25101176 0.78669021\n",
            "  0.88180957 0.58126266 0.03975852 0.72438272 0.50266599 0.36595889\n",
            "  0.08014962 0.73691955 0.86230492 0.33087774 0.84831586 0.03640602\n",
            "  0.93972605 0.81215034 0.02746322 0.54759958]\n",
            " [0.59482057 0.12102653 0.57260528 0.60371717 0.0995384  0.38571478\n",
            "  0.61742047 0.47102235 0.66289093 0.85256014 0.064658   0.20001028\n",
            "  0.62196059 0.3397667  0.85557041 0.02610642 0.58242551 0.00727444\n",
            "  0.57537963 0.06621806 0.99842406 0.0323768  0.44236832 0.31861825\n",
            "  0.47049505 0.02189991 0.77597663 0.90684197 0.23325751 0.94648272\n",
            "  0.88162025 0.01830281 0.70067657 0.21706705 0.37088884 0.91580683\n",
            "  0.81015887 0.78810081 0.4886214  0.2434079 ]]\n",
            "\n",
            "Решение через MapReduce:\n",
            "[[0.65553474 0.61032882 0.71704004 0.64631984 0.56143969 0.84210436\n",
            "  0.61726194 0.57655712 0.70596388 1.08577787 0.52580252 0.23739345\n",
            "  0.99938386 0.32548148 0.75108682 0.40072185 0.72358395 0.29065848\n",
            "  0.76600827 0.3950148  1.21109549 0.31563237 0.68683683 0.47750892\n",
            "  0.48002331 0.15010843 0.60540296 1.21598691 0.61300903 0.99759505\n",
            "  0.85973476 0.52902573 0.92104051 0.50889238 0.4695104  1.02755119\n",
            "  1.06077617 0.83349349 0.68732247 0.5814338 ]\n",
            " [0.58357202 1.12938166 0.96476417 0.51459952 1.24639074 1.43792211\n",
            "  0.76157871 0.44373412 0.72035056 1.06598427 0.99426548 0.26612291\n",
            "  1.46129195 0.22338261 0.67019411 1.01532171 0.66771781 0.59685593\n",
            "  0.98444289 0.49861834 1.36216698 0.46106714 0.75361213 0.89669193\n",
            "  0.85259664 0.54436963 0.28062097 1.42149071 0.95914184 0.88220141\n",
            "  0.56781255 1.1445307  1.26196738 0.72608813 0.88775603 0.73847236\n",
            "  1.41800142 1.0537355  0.58285093 0.93821285]]\n",
            "\n",
            "Проверка на совпадение с истинным решением: True\n"
          ]
        }
      ]
    },
    {
      "cell_type": "markdown",
      "metadata": {
        "id": "mXyzQi1DaIwo"
      },
      "source": [
        "Реализуйте перемножение матриц с использованием модельного кода MapReduce Distributed, когда каждая матрица генерируется в своём RECORDREADER."
      ]
    },
    {
      "cell_type": "code",
      "metadata": {
        "id": "TDM_s78Rb5eR",
        "colab": {
          "base_uri": "https://localhost:8080/"
        },
        "outputId": "58fb1ef7-2515-45ab-da20-ff19e5f8c694"
      },
      "source": [
        "import numpy as np\n",
        "\n",
        "# Размеры матриц\n",
        "I = 2\n",
        "J = 3\n",
        "K = 4 * 10\n",
        "\n",
        "# Генерация случайных матриц\n",
        "small_mat = np.random.rand(I, J)\n",
        "big_mat = np.random.rand(J, K)\n",
        "\n",
        "# Вывод матриц для визуализации\n",
        "print(\"Матрица small_mat:\")\n",
        "print(small_mat)\n",
        "print(\"\\nМатрица big_mat:\")\n",
        "print(big_mat)\n",
        "\n",
        "# RECORDREADER для матрицы small_mat\n",
        "def RECORDREADER_small():\n",
        "    for i in range(small_mat.shape[0]):\n",
        "        for j in range(small_mat.shape[1]):\n",
        "            yield ((i, j), small_mat[i, j])  # Возвращаем (i, j) и значение\n",
        "\n",
        "# RECORDREADER для матрицы big_mat\n",
        "def RECORDREADER_big():\n",
        "    for j in range(big_mat.shape[1]):\n",
        "        for k in range(big_mat.shape[0]):\n",
        "            yield ((j, k), big_mat[k, j])  # Возвращаем (j, k) и значение\n",
        "\n",
        "# MAP функция для перемножения матриц\n",
        "def MAP(k1, v1):\n",
        "    (i, j) = k1\n",
        "    w = v1\n",
        "    # Для каждой строки в small_mat и каждого столбца в big_mat генерируем (i, k) и произведение\n",
        "    for k in range(big_mat.shape[1]):\n",
        "        yield ((i, k), w * big_mat[j, k])\n",
        "\n",
        "# REDUCE функция для суммирования результатов перемножения\n",
        "def REDUCE(key, values):\n",
        "    # key — это (i, k)\n",
        "    # values — список произведений для данной пары\n",
        "    result = sum(values)  # Суммируем все произведения\n",
        "    yield (key, result)  # Возвращаем пару (i, k) и итоговое значение\n",
        "\n",
        "# MapReduce модель\n",
        "def flatten(nested_iterable):\n",
        "    for iterable in nested_iterable:\n",
        "        for element in iterable:\n",
        "            yield element\n",
        "\n",
        "def groupbykey(iterable):\n",
        "    t = {}\n",
        "    for (k2, v2) in iterable:\n",
        "        t[k2] = t.get(k2, []) + [v2]\n",
        "    return t.items()\n",
        "\n",
        "def MapReduce(RECORDREADER, MAP, REDUCE):\n",
        "    return flatten(map(lambda x: REDUCE(*x), groupbykey(flatten(map(lambda x: MAP(*x), RECORDREADER())))))\n",
        "\n",
        "# Проверка решения\n",
        "reference_solution = np.matmul(small_mat, big_mat)  # Истинное решение\n",
        "solution = MapReduce(RECORDREADER_small, MAP, REDUCE)  # Решение через MapReduce\n",
        "\n",
        "# Преобразование вывода REDUCE в матрицу\n",
        "def asmatrix(reduce_output):\n",
        "    reduce_output = list(reduce_output)\n",
        "    I = max(i for ((i, k), _) in reduce_output) + 1\n",
        "    K = max(k for ((i, k), _) in reduce_output) + 1\n",
        "    mat = np.empty(shape=(I, K))\n",
        "    for ((i, k), value) in reduce_output:\n",
        "        mat[i, k] = value\n",
        "    return mat\n",
        "\n",
        "# Преобразуем вывод MapReduce в матрицу\n",
        "mapreduce_result = asmatrix(solution)\n",
        "\n",
        "# Вывод матрицы результата\n",
        "print(\"\\nРешение через MapReduce:\")\n",
        "print(mapreduce_result)\n",
        "\n",
        "# Проверка, что решение через MapReduce равно истинному решению\n",
        "print(\"\\nПроверка на совпадение с истинным решением:\", np.allclose(reference_solution, mapreduce_result))"
      ],
      "execution_count": 40,
      "outputs": [
        {
          "output_type": "stream",
          "name": "stdout",
          "text": [
            "Матрица small_mat:\n",
            "[[0.7992291  0.10844054 0.45583703]\n",
            " [0.68879738 0.07168596 0.65995047]]\n",
            "\n",
            "Матрица big_mat:\n",
            "[[0.99525184 0.47385135 0.61579719 0.30680011 0.56384647 0.19507645\n",
            "  0.48857635 0.84986107 0.70211544 0.67590679 0.26827511 0.71147098\n",
            "  0.04129313 0.0145894  0.93462393 0.88031409 0.05597549 0.88913744\n",
            "  0.02298517 0.62625715 0.87777035 0.56006311 0.76250228 0.49484333\n",
            "  0.74635284 0.84989837 0.56174507 0.48554646 0.78591128 0.44540268\n",
            "  0.00173244 0.60098811 0.37744649 0.32153398 0.37366134 0.75833176\n",
            "  0.21540476 0.55825419 0.56916857 0.51810924]\n",
            " [0.55505143 0.21406966 0.60946398 0.03421658 0.84343516 0.14696267\n",
            "  0.2560948  0.4694255  0.87319254 0.56475537 0.22303752 0.37021511\n",
            "  0.19558815 0.53203245 0.64522069 0.53055234 0.41107264 0.91304476\n",
            "  0.36627167 0.63343633 0.03121635 0.55712518 0.3926322  0.44055194\n",
            "  0.91704944 0.24476871 0.64365077 0.10438962 0.92748822 0.96509922\n",
            "  0.78637148 0.69230166 0.4987926  0.99950686 0.66424079 0.75770325\n",
            "  0.16988008 0.16148102 0.31149922 0.09820528]\n",
            " [0.95173283 0.69737975 0.3296262  0.33602841 0.47509782 0.70031643\n",
            "  0.13498168 0.03640641 0.29223264 0.22468858 0.79838843 0.75616437\n",
            "  0.35767874 0.49794966 0.70088876 0.56506552 0.54214743 0.76290043\n",
            "  0.18455079 0.86305365 0.55406351 0.33361726 0.72919601 0.96680936\n",
            "  0.83765418 0.92172379 0.95276381 0.16425677 0.83103673 0.19164798\n",
            "  0.55314828 0.86085479 0.85206613 0.12383836 0.427519   0.85707059\n",
            "  0.71669045 0.67042853 0.48809665 0.47987243]]\n",
            "\n",
            "Решение через MapReduce:\n",
            "[[1.28945937 0.71982113 0.70850946 0.40208823 0.75867226 0.49107765\n",
            "  0.47978514 0.74673384 0.78905102 0.70386813 0.6025346  0.95346236\n",
            "  0.21725557 0.29633806 1.13643777 1.01868381 0.33644506 1.15739385\n",
            "  0.1422142  0.96262493 0.95748739 0.6601088  0.9843858  0.88397439\n",
            "  1.07778604 1.1259622  0.95306587 0.47425725 1.10751781 0.54799491\n",
            "  0.33880464 0.94781024 0.74415885 0.42181649 0.56555064 1.07893107\n",
            "  0.51727369 0.76929023 0.71116776 0.64348104]\n",
            " [1.35341277 0.80196945 0.68538646 0.43553807 0.76237946 0.60707746\n",
            "  0.44396973 0.64305972 0.73906999 0.65433119 0.72767267 1.0156296\n",
            "  0.27851377 0.37681051 1.15257164 1.01730645 0.42581436 1.18136452\n",
            "  0.16388304 1.04634543 0.97249817 0.64587892 1.03458903 1.01047447\n",
            "  1.13263571 1.2112463  1.06184618 0.45032773 1.15626459 0.50245443\n",
            "  0.42261556 1.03170886 0.85806202 0.37484955 0.58713505 1.14227775\n",
            "  0.63352845 0.83854956 0.73649155 0.68060426]]\n",
            "\n",
            "Проверка на совпадение с истинным решением: True\n"
          ]
        }
      ]
    },
    {
      "cell_type": "markdown",
      "metadata": {
        "id": "ZuSA2P9Db6UM"
      },
      "source": [
        "Обобщите предыдущее решение на случай, когда каждая матрица генерируется несколькими RECORDREADER-ами, и проверьте его работоспособность. Будет ли работать решение, если RECORDREADER-ы будут генерировать случайное подмножество элементов матрицы?"
      ]
    },
    {
      "cell_type": "markdown",
      "source": [
        "Ответ: будет работать, если случайные подмножества покрываю всю матрицу."
      ],
      "metadata": {
        "id": "IM0aL_0YrH94"
      }
    },
    {
      "cell_type": "code",
      "metadata": {
        "id": "ehN0FqRDcwU5",
        "colab": {
          "base_uri": "https://localhost:8080/"
        },
        "outputId": "7e748809-6386-4a74-bc91-2d42a011eaba"
      },
      "source": [
        "import numpy as np\n",
        "import random\n",
        "\n",
        "# Размеры матриц\n",
        "I = 2\n",
        "J = 3\n",
        "K = 4 * 10\n",
        "\n",
        "# Генерация случайных матриц\n",
        "small_mat = np.random.rand(I, J)\n",
        "big_mat = np.random.rand(J, K)\n",
        "\n",
        "def RECORDREADER_small_1():\n",
        "    #Генерирует первую половину строк small_mat\n",
        "    for i in range(0, small_mat.shape[0] // 2):\n",
        "        for j in range(small_mat.shape[1]):\n",
        "            yield ((i, j), small_mat[i, j])\n",
        "\n",
        "def RECORDREADER_small_2():\n",
        "    #Генерирует вторую половину строк small_mat\n",
        "    for i in range(small_mat.shape[0] // 2, small_mat.shape[0]):\n",
        "        for j in range(small_mat.shape[1]):\n",
        "            yield ((i, j), small_mat[i, j])\n",
        "\n",
        "def RECORDREADER_big_1():\n",
        "    #Генерирует первую половину столбцов big_mat\n",
        "    for j in range(big_mat.shape[0]):\n",
        "        for k in range(0, big_mat.shape[1] // 2):\n",
        "            yield ((j, k), big_mat[j, k])\n",
        "\n",
        "def RECORDREADER_big_2():\n",
        "    #Генерирует вторую половину столбцов big_mat\n",
        "    for j in range(big_mat.shape[0]):\n",
        "        for k in range(big_mat.shape[1] // 2, big_mat.shape[1]):\n",
        "            yield ((j, k), big_mat[j, k])\n",
        "\n",
        "\n",
        "# Объединяем все RECORDREADER-ы\n",
        "def COMBINED_RECORDREADER(*readers):\n",
        "    #Объединяет потоки данных от нескольких RECORDREADER-ов\n",
        "    for reader in readers:\n",
        "        yield from reader()\n",
        "\n",
        "# MAP функция для перемножения матриц\n",
        "def MAP(k1, v1):\n",
        "    (i, j) = k1\n",
        "    w = v1\n",
        "    for k in range(big_mat.shape[1]):\n",
        "        yield ((i, k), w * big_mat[j, k])\n",
        "\n",
        "# REDUCE функция для суммирования результатов перемножения\n",
        "def REDUCE(key, values):\n",
        "    yield (key, sum(values))\n",
        "\n",
        "# Функции для MapReduce\n",
        "def flatten(nested_iterable):\n",
        "    for iterable in nested_iterable:\n",
        "        for element in iterable:\n",
        "            yield element\n",
        "\n",
        "def groupbykey(iterable):\n",
        "    t = {}\n",
        "    for (k2, v2) in iterable:\n",
        "        t[k2] = t.get(k2, []) + [v2]\n",
        "    return t.items()\n",
        "\n",
        "def MapReduce(RECORDREADER, MAP, REDUCE):\n",
        "    return flatten(map(lambda x: REDUCE(*x), groupbykey(flatten(map(lambda x: MAP(*x), RECORDREADER())))))\n",
        "\n",
        "# Проверка решения\n",
        "reference_solution = np.matmul(small_mat, big_mat)  # Истинное решение\n",
        "\n",
        "# Используем объединённые RECORDREADER-ы\n",
        "solution = MapReduce(\n",
        "    lambda: COMBINED_RECORDREADER(RECORDREADER_small_1, RECORDREADER_small_2),\n",
        "    MAP,\n",
        "    REDUCE\n",
        ")\n",
        "\n",
        "# Преобразование вывода REDUCE в матрицу\n",
        "def asmatrix(reduce_output):\n",
        "    reduce_output = list(reduce_output)\n",
        "    I = max(i for ((i, k), _) in reduce_output) + 1\n",
        "    K = max(k for ((i, k), _) in reduce_output) + 1\n",
        "    mat = np.empty(shape=(I, K))\n",
        "    for ((i, k), value) in reduce_output:\n",
        "        mat[i, k] = value\n",
        "    return mat\n",
        "\n",
        "# Получаем результат\n",
        "mapreduce_result = asmatrix(solution)\n",
        "\n",
        "# Вывод результатов\n",
        "print(\"\\nРешение через MapReduce:\")\n",
        "print(mapreduce_result)\n",
        "print(\"\\nПроверка на совпадение с истинным решением:\", np.allclose(reference_solution, mapreduce_result))"
      ],
      "execution_count": 41,
      "outputs": [
        {
          "output_type": "stream",
          "name": "stdout",
          "text": [
            "\n",
            "Решение через MapReduce:\n",
            "[[0.75981158 0.31155902 0.67347239 0.35447203 0.55665501 0.38395298\n",
            "  0.11959173 0.57379054 0.49235634 0.62639348 0.85309878 0.46914647\n",
            "  0.15923851 0.73047096 0.605867   0.73065881 0.74863887 0.48668526\n",
            "  0.31352582 0.58484103 0.16101763 0.56715534 0.77143907 0.80198867\n",
            "  0.28274127 0.25204351 0.10750164 0.4708323  0.30335856 0.54563677\n",
            "  0.0268274  0.57480992 0.43945311 0.20686675 0.39311949 0.26405562\n",
            "  0.85555698 0.34010668 0.80581911 0.64086786]\n",
            " [0.45014309 0.66575835 0.38678058 0.23519916 0.95570852 0.55131515\n",
            "  0.41210949 0.94008785 0.7691209  0.77739877 0.89607137 1.04230715\n",
            "  0.40388455 0.85664777 0.94612159 0.95552626 1.00043971 0.78236174\n",
            "  0.84502146 0.53688124 0.23916828 0.4155383  0.78027438 0.7863813\n",
            "  0.59430804 0.72581534 0.37550738 0.46056661 0.49865587 0.99571094\n",
            "  0.0434087  0.61119781 0.58361644 0.67735303 0.96303788 0.84385455\n",
            "  1.05376132 0.22191735 0.66778087 0.77944861]]\n",
            "\n",
            "Проверка на совпадение с истинным решением: True\n"
          ]
        }
      ]
    }
  ]
}