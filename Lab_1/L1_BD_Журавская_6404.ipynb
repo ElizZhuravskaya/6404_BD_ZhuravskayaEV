{
  "nbformat": 4,
  "nbformat_minor": 0,
  "metadata": {
    "colab": {
      "provenance": []
    },
    "kernelspec": {
      "name": "python3",
      "display_name": "Python 3"
    },
    "language_info": {
      "name": "python"
    }
  },
  "cells": [
    {
      "cell_type": "code",
      "execution_count": 49,
      "metadata": {
        "id": "Ayo8fQPJ_Mws"
      },
      "outputs": [],
      "source": [
        "# библиотеки\n",
        "from pyspark.sql import SparkSession\n",
        "from pyspark.sql.functions import col, sum, udf, row_number\n",
        "from pyspark.sql.types import DoubleType\n",
        "from pyspark.sql.window import Window\n",
        "from pyspark.sql import Row\n",
        "\n",
        "from geopy.distance import geodesic"
      ]
    },
    {
      "cell_type": "code",
      "source": [
        "# Настройки Spark\n",
        "conf = SparkConf().setAppName(\"Bike_Analysis\").setMaster(\"local[*]\")\n",
        "sc = SparkContext(conf=conf)\n",
        "spark = SparkSession(sc)"
      ],
      "metadata": {
        "colab": {
          "base_uri": "https://localhost:8080/",
          "height": 235
        },
        "id": "PpK8QsNa_24t",
        "outputId": "25027291-bd47-4b72-cbb1-8cca7a1c91be"
      },
      "execution_count": 50,
      "outputs": [
        {
          "output_type": "error",
          "ename": "ValueError",
          "evalue": "Cannot run multiple SparkContexts at once; existing SparkContext(app=Bike_Analysis, master=local[*]) created by __init__ at <ipython-input-3-2581432d6471>:3 ",
          "traceback": [
            "\u001b[0;31m---------------------------------------------------------------------------\u001b[0m",
            "\u001b[0;31mValueError\u001b[0m                                Traceback (most recent call last)",
            "\u001b[0;32m<ipython-input-50-2581432d6471>\u001b[0m in \u001b[0;36m<cell line: 0>\u001b[0;34m()\u001b[0m\n\u001b[1;32m      1\u001b[0m \u001b[0;31m# Настройки Spark\u001b[0m\u001b[0;34m\u001b[0m\u001b[0;34m\u001b[0m\u001b[0m\n\u001b[1;32m      2\u001b[0m \u001b[0mconf\u001b[0m \u001b[0;34m=\u001b[0m \u001b[0mSparkConf\u001b[0m\u001b[0;34m(\u001b[0m\u001b[0;34m)\u001b[0m\u001b[0;34m.\u001b[0m\u001b[0msetAppName\u001b[0m\u001b[0;34m(\u001b[0m\u001b[0;34m\"Bike_Analysis\"\u001b[0m\u001b[0;34m)\u001b[0m\u001b[0;34m.\u001b[0m\u001b[0msetMaster\u001b[0m\u001b[0;34m(\u001b[0m\u001b[0;34m\"local[*]\"\u001b[0m\u001b[0;34m)\u001b[0m\u001b[0;34m\u001b[0m\u001b[0;34m\u001b[0m\u001b[0m\n\u001b[0;32m----> 3\u001b[0;31m \u001b[0msc\u001b[0m \u001b[0;34m=\u001b[0m \u001b[0mSparkContext\u001b[0m\u001b[0;34m(\u001b[0m\u001b[0mconf\u001b[0m\u001b[0;34m=\u001b[0m\u001b[0mconf\u001b[0m\u001b[0;34m)\u001b[0m\u001b[0;34m\u001b[0m\u001b[0;34m\u001b[0m\u001b[0m\n\u001b[0m\u001b[1;32m      4\u001b[0m \u001b[0mspark\u001b[0m \u001b[0;34m=\u001b[0m \u001b[0mSparkSession\u001b[0m\u001b[0;34m(\u001b[0m\u001b[0msc\u001b[0m\u001b[0;34m)\u001b[0m\u001b[0;34m\u001b[0m\u001b[0;34m\u001b[0m\u001b[0m\n",
            "\u001b[0;32m/usr/local/lib/python3.11/dist-packages/pyspark/context.py\u001b[0m in \u001b[0;36m__init__\u001b[0;34m(self, master, appName, sparkHome, pyFiles, environment, batchSize, serializer, conf, gateway, jsc, profiler_cls, udf_profiler_cls, memory_profiler_cls)\u001b[0m\n\u001b[1;32m    199\u001b[0m             )\n\u001b[1;32m    200\u001b[0m \u001b[0;34m\u001b[0m\u001b[0m\n\u001b[0;32m--> 201\u001b[0;31m         \u001b[0mSparkContext\u001b[0m\u001b[0;34m.\u001b[0m\u001b[0m_ensure_initialized\u001b[0m\u001b[0;34m(\u001b[0m\u001b[0mself\u001b[0m\u001b[0;34m,\u001b[0m \u001b[0mgateway\u001b[0m\u001b[0;34m=\u001b[0m\u001b[0mgateway\u001b[0m\u001b[0;34m,\u001b[0m \u001b[0mconf\u001b[0m\u001b[0;34m=\u001b[0m\u001b[0mconf\u001b[0m\u001b[0;34m)\u001b[0m\u001b[0;34m\u001b[0m\u001b[0;34m\u001b[0m\u001b[0m\n\u001b[0m\u001b[1;32m    202\u001b[0m         \u001b[0;32mtry\u001b[0m\u001b[0;34m:\u001b[0m\u001b[0;34m\u001b[0m\u001b[0;34m\u001b[0m\u001b[0m\n\u001b[1;32m    203\u001b[0m             self._do_init(\n",
            "\u001b[0;32m/usr/local/lib/python3.11/dist-packages/pyspark/context.py\u001b[0m in \u001b[0;36m_ensure_initialized\u001b[0;34m(cls, instance, gateway, conf)\u001b[0m\n\u001b[1;32m    447\u001b[0m \u001b[0;34m\u001b[0m\u001b[0m\n\u001b[1;32m    448\u001b[0m                     \u001b[0;31m# Raise error if there is already a running Spark context\u001b[0m\u001b[0;34m\u001b[0m\u001b[0;34m\u001b[0m\u001b[0m\n\u001b[0;32m--> 449\u001b[0;31m                     raise ValueError(\n\u001b[0m\u001b[1;32m    450\u001b[0m                         \u001b[0;34m\"Cannot run multiple SparkContexts at once; \"\u001b[0m\u001b[0;34m\u001b[0m\u001b[0;34m\u001b[0m\u001b[0m\n\u001b[1;32m    451\u001b[0m                         \u001b[0;34m\"existing SparkContext(app=%s, master=%s)\"\u001b[0m\u001b[0;34m\u001b[0m\u001b[0;34m\u001b[0m\u001b[0m\n",
            "\u001b[0;31mValueError\u001b[0m: Cannot run multiple SparkContexts at once; existing SparkContext(app=Bike_Analysis, master=local[*]) created by __init__ at <ipython-input-3-2581432d6471>:3 "
          ]
        }
      ]
    },
    {
      "cell_type": "markdown",
      "source": [
        "trips.csv"
      ],
      "metadata": {
        "id": "yhjaO4mZDpjI"
      }
    },
    {
      "cell_type": "code",
      "source": [
        "# Читаем данные\n",
        "df_trips = spark.read.csv(\"trips.csv\", header=True, inferSchema=True)\n",
        "# Выводим структуру данных\n",
        "df_trips.printSchema()"
      ],
      "metadata": {
        "colab": {
          "base_uri": "https://localhost:8080/"
        },
        "id": "y2Hw_wUsDmjG",
        "outputId": "4163a50b-f863-4d19-9f86-317441c5397c"
      },
      "execution_count": 51,
      "outputs": [
        {
          "output_type": "stream",
          "name": "stdout",
          "text": [
            "root\n",
            " |-- id: integer (nullable = true)\n",
            " |-- duration: integer (nullable = true)\n",
            " |-- start_date: string (nullable = true)\n",
            " |-- start_station_name: string (nullable = true)\n",
            " |-- start_station_id: integer (nullable = true)\n",
            " |-- end_date: string (nullable = true)\n",
            " |-- end_station_name: string (nullable = true)\n",
            " |-- end_station_id: integer (nullable = true)\n",
            " |-- bike_id: integer (nullable = true)\n",
            " |-- subscription_type: string (nullable = true)\n",
            " |-- zip_code: string (nullable = true)\n",
            "\n"
          ]
        }
      ]
    },
    {
      "cell_type": "markdown",
      "source": [
        "stations.csv"
      ],
      "metadata": {
        "id": "j6ewdIaeDsWf"
      }
    },
    {
      "cell_type": "code",
      "source": [
        "# Читаем данные\n",
        "df_stations = spark.read.csv(\"stations.csv\", header=True, inferSchema=True)\n",
        "# Выводим структуру данных\n",
        "df_stations.printSchema()"
      ],
      "metadata": {
        "colab": {
          "base_uri": "https://localhost:8080/"
        },
        "id": "J4---NnrDo7k",
        "outputId": "0f0e86ad-4812-4b4b-f9f9-7407f8a70ee0"
      },
      "execution_count": 52,
      "outputs": [
        {
          "output_type": "stream",
          "name": "stdout",
          "text": [
            "root\n",
            " |-- id: integer (nullable = true)\n",
            " |-- name: string (nullable = true)\n",
            " |-- lat: double (nullable = true)\n",
            " |-- long: double (nullable = true)\n",
            " |-- dock_count: integer (nullable = true)\n",
            " |-- city: string (nullable = true)\n",
            " |-- installation_date: string (nullable = true)\n",
            "\n"
          ]
        }
      ]
    },
    {
      "cell_type": "markdown",
      "source": [
        "Найти велосипед с максимальным временем пробега."
      ],
      "metadata": {
        "id": "jh5lWHep_ahZ"
      }
    },
    {
      "cell_type": "code",
      "source": [
        "# Группируем данные по bike_id и суммируем продолжительность всех поездок каждого велосипеда\n",
        "bike_time = df_trips.groupBy(\"bike_id\").agg(\n",
        "    sum(\"duration\").alias(\"total_duration\")  # Создаем новый столбец \"total_duration\" с суммой времени\n",
        ")\n",
        "\n",
        "# Находим велосипед с максимальным временем пробега\n",
        "max_bike = bike_time.orderBy(col(\"total_duration\").desc()).limit(1)\n",
        "\n",
        "# Выводим результат: ID велосипеда и его общее время пробега\n",
        "max_bike.show()"
      ],
      "metadata": {
        "colab": {
          "base_uri": "https://localhost:8080/"
        },
        "id": "DbqpaJeiDzfP",
        "outputId": "e7b61ba2-47e4-47d3-b731-718fb80d3a1a"
      },
      "execution_count": 53,
      "outputs": [
        {
          "output_type": "stream",
          "name": "stdout",
          "text": [
            "+-------+--------------+\n",
            "|bike_id|total_duration|\n",
            "+-------+--------------+\n",
            "|    535|      18611693|\n",
            "+-------+--------------+\n",
            "\n"
          ]
        }
      ]
    },
    {
      "cell_type": "markdown",
      "source": [
        "Найти наибольшее геодезическое расстояние между станциями.\n"
      ],
      "metadata": {
        "id": "pi5IvazY_bCg"
      }
    },
    {
      "cell_type": "code",
      "source": [
        "# Функция для вычисления геодезического расстояния (в километрах) между двумя точками\n",
        "def distance(lat1, lon1, lat2, lon2):\n",
        "    return geodesic((lat1, lon1), (lat2, lon2)).km\n",
        "\n",
        "# Выбираем id станций и их координаты\n",
        "stations_list = df_stations.select(\"id\", \"lat\", \"long\").collect()\n",
        "\n",
        "# Инициализируем переменную для максимального расстояния и id станций\n",
        "max_distance = 0\n",
        "station_1, station_2 = None, None\n",
        "\n",
        "# Перебираем все возможные пары станций\n",
        "for i in range(len(stations_list)):\n",
        "    for j in range(i + 1, len(stations_list)):  # Исключаем дублирующиеся пары\n",
        "        dist = distance(\n",
        "            stations_list[i][\"lat\"], stations_list[i][\"long\"],\n",
        "            stations_list[j][\"lat\"], stations_list[j][\"long\"]\n",
        "        )\n",
        "        # Обновляем максимальное расстояние и станции, если найдено большее расстояние\n",
        "        if dist > max_distance:\n",
        "            max_distance = dist\n",
        "            station_1 = stations_list[i][\"id\"]\n",
        "            station_2 = stations_list[j][\"id\"]\n",
        "\n",
        "# Создаем DataFrame для вывода результата\n",
        "result_df = spark.createDataFrame([\n",
        "    Row(station_1=station_1, station_2=station_2, distance=max_distance)\n",
        "])\n",
        "\n",
        "result_df.show()"
      ],
      "metadata": {
        "colab": {
          "base_uri": "https://localhost:8080/"
        },
        "id": "XFVPvFLnEwS0",
        "outputId": "fe9adb73-2be3-4335-96df-688eb5b1fcb7"
      },
      "execution_count": 54,
      "outputs": [
        {
          "output_type": "stream",
          "name": "stdout",
          "text": [
            "+---------+---------+-----------------+\n",
            "|station_1|station_2|         distance|\n",
            "+---------+---------+-----------------+\n",
            "|       16|       60|69.92096757764355|\n",
            "+---------+---------+-----------------+\n",
            "\n"
          ]
        }
      ]
    },
    {
      "cell_type": "markdown",
      "source": [
        "Найти путь велосипеда с максимальным временем пробега через станции."
      ],
      "metadata": {
        "id": "VCtZGuCU_b-5"
      }
    },
    {
      "cell_type": "code",
      "source": [
        "# Получаем ID велосипеда с максимальным временем пробега\n",
        "max_bike_id = max_bike[\"bike_id\"]\n",
        "\n",
        "# Фильтруем DataFrame, оставляя только поездки этого велосипеда\n",
        "bike_path_df = df_trips.filter(col(\"bike_id\") == max_bike_id)\n",
        "\n",
        "# Выбираем только начальную и конечную станции поездок\n",
        "bike_path_df = bike_path_df.select(\"start_station_name\", \"end_station_name\")\n",
        "\n",
        "# Убираем дубликаты (один и тот же маршрут мог встречаться несколько раз)\n",
        "bike_path_df = bike_path_df.distinct()\n",
        "\n",
        "bike_path_df.show(truncate=False)"
      ],
      "metadata": {
        "colab": {
          "base_uri": "https://localhost:8080/"
        },
        "id": "a8r6fr2UGtJ9",
        "outputId": "fc3a95ee-721e-486d-9347-182967a7544f"
      },
      "execution_count": 55,
      "outputs": [
        {
          "output_type": "stream",
          "name": "stdout",
          "text": [
            "+---------------------------------------------+---------------------------------------------+\n",
            "|start_station_name                           |end_station_name                             |\n",
            "+---------------------------------------------+---------------------------------------------+\n",
            "|Market at 10th                               |Market at 10th                               |\n",
            "|Grant Avenue at Columbus Avenue              |Powell at Post (Union Square)                |\n",
            "|University and Emerson                       |California Ave Caltrain Station              |\n",
            "|Market at 10th                               |Clay at Battery                              |\n",
            "|Temporary Transbay Terminal (Howard at Beale)|Harry Bridges Plaza (Ferry Building)         |\n",
            "|2nd at Folsom                                |San Francisco Caltrain (Townsend at 4th)     |\n",
            "|Golden Gate at Polk                          |Steuart at Market                            |\n",
            "|Evelyn Park and Ride                         |Evelyn Park and Ride                         |\n",
            "|Grant Avenue at Columbus Avenue              |Mechanics Plaza (Market at Battery)          |\n",
            "|2nd at South Park                            |Yerba Buena Center of the Arts (3rd @ Howard)|\n",
            "|San Antonio Shopping Center                  |Civic Center BART (7th at Market)            |\n",
            "|Clay at Battery                              |Mechanics Plaza (Market at Battery)          |\n",
            "|San Francisco Caltrain (Townsend at 4th)     |Steuart at Market                            |\n",
            "|Embarcadero at Bryant                        |Davis at Jackson                             |\n",
            "|2nd at Folsom                                |Howard at 2nd                                |\n",
            "|Mountain View Caltrain Station               |University and Emerson                       |\n",
            "|Embarcadero at Vallejo                       |Howard at 2nd                                |\n",
            "|Broadway St at Battery St                    |2nd at South Park                            |\n",
            "|Rengstorff Avenue / California Street        |Japantown                                    |\n",
            "|Commercial at Montgomery                     |Mechanics Plaza (Market at Battery)          |\n",
            "+---------------------------------------------+---------------------------------------------+\n",
            "only showing top 20 rows\n",
            "\n"
          ]
        }
      ]
    },
    {
      "cell_type": "markdown",
      "source": [
        "Найти количество велосипедов в системе."
      ],
      "metadata": {
        "id": "oUKwXkLc_dJZ"
      }
    },
    {
      "cell_type": "code",
      "source": [
        "# Выбираем столбец bike_id\n",
        "# Используем distinct(), чтобы оставить только уникальные ID велосипедов\n",
        "bike_count = df_trips.select(\"bike_id\").distinct().count()\n",
        "print(f\"Общее количество велосипедов в системе: {bike_count}\")"
      ],
      "metadata": {
        "colab": {
          "base_uri": "https://localhost:8080/"
        },
        "id": "yzLf8pB9_bqG",
        "outputId": "7e12217d-c94d-439f-86b1-12ccb66a3aa3"
      },
      "execution_count": 56,
      "outputs": [
        {
          "output_type": "stream",
          "name": "stdout",
          "text": [
            "Общее количество велосипедов в системе: 700\n"
          ]
        }
      ]
    },
    {
      "cell_type": "markdown",
      "source": [
        "Найти пользователей потративших на поездки более 3 часов."
      ],
      "metadata": {
        "id": "Z1MWS2M4_c0v"
      }
    },
    {
      "cell_type": "code",
      "source": [
        "# Группируем по zip_code и суммируем продолжительность поездок\n",
        "users_over_3_hours = df_trips.groupBy(\"zip_code\").agg(\n",
        "    sum(\"duration\").alias(\"total_duration\")\n",
        ")\n",
        "\n",
        "# Фильтруем пользователей, у которых общее время поездок больше 3 часов (10800 секунд)\n",
        "users_over_3_hours = users_over_3_hours.where(col(\"total_duration\") > 10800)\n",
        "\n",
        "users_over_3_hours.select(\"zip_code\").show()"
      ],
      "metadata": {
        "colab": {
          "base_uri": "https://localhost:8080/"
        },
        "id": "tmC5mMkpDKEo",
        "outputId": "49bfc1ab-35b4-404b-b10f-57c5aae94c61"
      },
      "execution_count": 58,
      "outputs": [
        {
          "output_type": "stream",
          "name": "stdout",
          "text": [
            "+--------+\n",
            "|zip_code|\n",
            "+--------+\n",
            "|   94102|\n",
            "|   95134|\n",
            "|   84606|\n",
            "|   80305|\n",
            "|   60070|\n",
            "|   95519|\n",
            "|   43085|\n",
            "|   91910|\n",
            "|   77339|\n",
            "|   48063|\n",
            "|   85022|\n",
            "|    1090|\n",
            "|    2136|\n",
            "|   11722|\n",
            "|   95138|\n",
            "|   94610|\n",
            "|   94404|\n",
            "|   80301|\n",
            "|   91326|\n",
            "|   90742|\n",
            "+--------+\n",
            "only showing top 20 rows\n",
            "\n"
          ]
        }
      ]
    }
  ]
}