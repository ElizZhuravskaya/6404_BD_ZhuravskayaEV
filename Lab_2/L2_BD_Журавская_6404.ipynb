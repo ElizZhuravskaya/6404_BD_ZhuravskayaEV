{
  "nbformat": 4,
  "nbformat_minor": 0,
  "metadata": {
    "colab": {
      "provenance": []
    },
    "kernelspec": {
      "name": "python3",
      "display_name": "Python 3"
    },
    "language_info": {
      "name": "python"
    }
  },
  "cells": [
    {
      "cell_type": "code",
      "source": [
        "# Импорт библиотек\n",
        "from pyspark.sql import SparkSession\n",
        "from pyspark.sql.functions import col, explode, split, regexp_replace, year, count, row_number\n",
        "from pyspark.sql.window import Window\n",
        "from pyspark.sql.types import StructType, StructField, StringType\n",
        "import xml.etree.ElementTree as ET\n",
        "import time"
      ],
      "metadata": {
        "id": "PtjdVoiCAXTO"
      },
      "execution_count": 5,
      "outputs": []
    },
    {
      "cell_type": "code",
      "source": [
        "# Создаем Spark сессию\n",
        "spark = SparkSession.builder \\\n",
        "    .appName(\"Top 10 Programming Languages Analysis\") \\\n",
        "    .getOrCreate()"
      ],
      "metadata": {
        "id": "oNVdcFnxAbSe"
      },
      "execution_count": 6,
      "outputs": []
    },
    {
      "cell_type": "code",
      "source": [
        "# Определение путей к файлам\n",
        "posts_file = \"posts_sample.xml\"  # Используем сокращенную выборку\n",
        "languages_file = \"programming-languages.csv\"\n",
        "year_range = [str(year) for year in range(2010, 2021)]\n",
        "num_top_languages = 10"
      ],
      "metadata": {
        "id": "2hBr7srKAnSi"
      },
      "execution_count": 7,
      "outputs": []
    },
    {
      "cell_type": "code",
      "source": [
        "# Засекаем начало выполнения\n",
        "start_exec_time = time.time()\n",
        "\n",
        "# Загрузка данных в RDD\n",
        "raw_data_rdd = spark.read.text(posts_file).rdd.map(lambda row: row[0])\n",
        "\n",
        "# Индексирование строк\n",
        "indexed_rdd = raw_data_rdd.zipWithIndex()  # Добавление индекса к каждой строке\n",
        "total_lines = indexed_rdd.count() # Подсчитываем общее количество строк\n",
        "# Фильтрация строк: удаляем 1-ю, 2-ю и последнюю строку\n",
        "filtered_rdd = indexed_rdd.filter(lambda entry: 1 < entry[1] < total_lines - 1).map(lambda entry: entry[0])\n",
        "\n",
        "# Разбор XML-данных\n",
        "def extract_data(xml_line):\n",
        "    try:\n",
        "      # Преобразуем строку в XML-элемент и извлекаем атрибуты\n",
        "        element = ET.fromstring(xml_line)\n",
        "        return (\n",
        "            element.attrib.get(\"Id\", \"\"),\n",
        "            element.attrib.get(\"CreationDate\", \"\"),\n",
        "            element.attrib.get(\"Tags\", \"\")\n",
        "        )\n",
        "    except:\n",
        "        return None\n",
        "\n",
        "parsed_rdd = filtered_rdd.map(extract_data).filter(lambda x: x is not None)\n",
        "\n",
        "# Определение схемы данных для DataFrame\n",
        "post_schema = StructType([\n",
        "    StructField(\"Id\", StringType(), True),\n",
        "    StructField(\"CreationDate\", StringType(), True),\n",
        "    StructField(\"Tags\", StringType(), True)\n",
        "])\n",
        "\n",
        "# Преобразование в DataFrame\n",
        "df_posts = spark.createDataFrame(parsed_rdd, post_schema)\n",
        "\n",
        "# Обработка полей: создание столбца \"Year\" и очистка тегов\n",
        "df_posts = df_posts.withColumn(\"Year\", year(col(\"CreationDate\")))\n",
        "df_posts = df_posts.withColumn(\"Tags\", regexp_replace(col(\"Tags\"), \"[<>]\", \"\"))\n",
        "df_posts = df_posts.withColumn(\"Tags\", split(col(\"Tags\"), \" \"))\n",
        "\n",
        "# Теги в отдельные строки\n",
        "df_exploded = df_posts.select(\"Year\", explode(col(\"Tags\")).alias(\"Language\"))\n",
        "\n",
        "# Загрузка списка языков программирования\n",
        "df_languages = spark.read.option(\"header\", \"true\").csv(languages_file)\n",
        "language_list = [row[0].lower() for row in df_languages.collect()]\n",
        "\n",
        "# Фильтрация данных: выбираем только записи с нужными годами и языками\n",
        "df_filtered = df_exploded.filter((col(\"Year\").isin(year_range)) & (col(\"Language\").isin(language_list))).cache()\n",
        "\n",
        "# Подсчет количества упоминаний языков по годам\n",
        "df_language_counts = df_filtered.groupBy(\"Year\", \"Language\").agg(count(\"Language\").alias(\"Count\"))\n",
        "\n",
        "# Выбор топ-N популярных языков\n",
        "rank_window = Window.partitionBy(\"Year\").orderBy(col(\"Count\").desc()) # Окно для сортировки по убыванию частоты\n",
        "df_top_languages = df_language_counts.withColumn(\"Rank\", row_number().over(rank_window)).filter(col(\"Rank\") <= num_top_languages)\n",
        "\n",
        "# Сохранение результатов в формат Parquet\n",
        "df_top_languages.write.mode(\"overwrite\").parquet(\"top_languages_per_year.parquet\")"
      ],
      "metadata": {
        "id": "P9ddo9mEA7J3"
      },
      "execution_count": 8,
      "outputs": []
    },
    {
      "cell_type": "code",
      "source": [
        "# Чтение Parquet-файла\n",
        "report_df = spark.read.parquet(\"top_languages_per_year.parquet\")\n",
        "\n",
        "# Показ содержимого DataFrame\n",
        "report_df.show(n=report_df.count())\n",
        "\n",
        "# Засекаем время выполнения\n",
        "end_exec_time = time.time()\n",
        "print(f\"Total execution time: {end_exec_time - start_exec_time:.2f} seconds\")"
      ],
      "metadata": {
        "colab": {
          "base_uri": "https://localhost:8080/"
        },
        "id": "-_m7lo1PQvNC",
        "outputId": "d39e1c25-cb93-40df-e2e6-6b619199d2c3"
      },
      "execution_count": 9,
      "outputs": [
        {
          "output_type": "stream",
          "name": "stdout",
          "text": [
            "+----+-----------+-----+----+\n",
            "|Year|   Language|Count|Rank|\n",
            "+----+-----------+-----+----+\n",
            "|2010|        php|    7|   1|\n",
            "|2010|     python|    4|   2|\n",
            "|2010|          c|    3|   3|\n",
            "|2010|       java|    2|   4|\n",
            "|2010|         go|    1|   5|\n",
            "|2010|        ksh|    1|   6|\n",
            "|2011|       java|    7|   1|\n",
            "|2011|        php|    6|   2|\n",
            "|2011|     python|    5|   3|\n",
            "|2011|          c|    5|   4|\n",
            "|2011| javascript|    4|   5|\n",
            "|2011|objective-c|    1|   6|\n",
            "|2011|       ruby|    1|   7|\n",
            "|2011|       cuda|    1|   8|\n",
            "|2011|    haskell|    1|   9|\n",
            "|2011|     delphi|    1|  10|\n",
            "|2012|        php|   17|   1|\n",
            "|2012| javascript|    7|   2|\n",
            "|2012|       java|    5|   3|\n",
            "|2012|          c|    5|   4|\n",
            "|2012|     python|    4|   5|\n",
            "|2012|      scala|    3|   6|\n",
            "|2012|       ruby|    3|   7|\n",
            "|2012|objective-c|    2|   8|\n",
            "|2012|          r|    2|   9|\n",
            "|2012|       bash|    1|  10|\n",
            "|2013| javascript|   15|   1|\n",
            "|2013|        php|   13|   2|\n",
            "|2013|       java|   10|   3|\n",
            "|2013|          r|    8|   4|\n",
            "|2013|          c|    6|   5|\n",
            "|2013|     python|    3|   6|\n",
            "|2013|       perl|    3|   7|\n",
            "|2013|     matlab|    2|   8|\n",
            "|2013|      scala|    2|   9|\n",
            "|2013|     delphi|    2|  10|\n",
            "|2014|       java|   17|   1|\n",
            "|2014| javascript|   12|   2|\n",
            "|2014|     python|    8|   3|\n",
            "|2014|          c|    7|   4|\n",
            "|2014|          r|    6|   5|\n",
            "|2014|        php|    5|   6|\n",
            "|2014|       bash|    3|   7|\n",
            "|2014|     matlab|    3|   8|\n",
            "|2014|         go|    2|   9|\n",
            "|2014| powershell|    2|  10|\n",
            "|2015|       java|   13|   1|\n",
            "|2015| javascript|    8|   2|\n",
            "|2015|     python|    6|   3|\n",
            "|2015|        php|    6|   4|\n",
            "|2015|       bash|    4|   5|\n",
            "|2015|          c|    4|   6|\n",
            "|2015|          r|    3|   7|\n",
            "|2015|     matlab|    2|   8|\n",
            "|2015|        sas|    2|   9|\n",
            "|2015|      scala|    2|  10|\n",
            "|2016| javascript|   13|   1|\n",
            "|2016|       java|    9|   2|\n",
            "|2016|        php|    9|   3|\n",
            "|2016|     python|    7|   4|\n",
            "|2016|          r|    6|   5|\n",
            "|2016| powershell|    3|   6|\n",
            "|2016| coldfusion|    2|   7|\n",
            "|2016|     matlab|    2|   8|\n",
            "|2016|       ruby|    2|   9|\n",
            "|2016|    haskell|    2|  10|\n",
            "|2017|       java|   18|   1|\n",
            "|2017| javascript|   13|   2|\n",
            "|2017|        php|    8|   3|\n",
            "|2017|     python|    8|   4|\n",
            "|2017|          r|    7|   5|\n",
            "|2017| powershell|    6|   6|\n",
            "|2017|       perl|    3|   7|\n",
            "|2017|          c|    3|   8|\n",
            "|2017|     matlab|    2|   9|\n",
            "|2017|       bash|    2|  10|\n",
            "|2018| javascript|   12|   1|\n",
            "|2018|     python|   11|   2|\n",
            "|2018|       java|   10|   3|\n",
            "|2018|          r|    8|   4|\n",
            "|2018|        php|    7|   5|\n",
            "|2018|          c|    4|   6|\n",
            "|2018|       bash|    3|   7|\n",
            "|2018|      scala|    3|   8|\n",
            "|2018| powershell|    2|   9|\n",
            "|2018|       rust|    2|  10|\n",
            "|2019|     python|    9|   1|\n",
            "|2019|        php|    7|   2|\n",
            "|2019|          r|    7|   3|\n",
            "|2019| javascript|    7|   4|\n",
            "|2019|       java|    6|   5|\n",
            "|2019|         go|    4|   6|\n",
            "|2019|       perl|    2|   7|\n",
            "|2019|          c|    2|   8|\n",
            "|2019|      latex|    2|   9|\n",
            "|2019| typescript|    1|  10|\n",
            "+----+-----------+-----+----+\n",
            "\n",
            "Total execution time: 21.79 seconds\n"
          ]
        }
      ]
    },
    {
      "cell_type": "code",
      "source": [
        "# Завершаем сессию\n",
        "spark.stop()"
      ],
      "metadata": {
        "id": "6LAkE5OkAtfK"
      },
      "execution_count": 10,
      "outputs": []
    }
  ]
}